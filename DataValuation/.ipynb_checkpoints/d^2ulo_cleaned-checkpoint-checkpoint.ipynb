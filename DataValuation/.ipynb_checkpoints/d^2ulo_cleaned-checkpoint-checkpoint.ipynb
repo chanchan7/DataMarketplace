{
 "cells": [
  {
   "cell_type": "markdown",
   "metadata": {
    "id": "7eTqj8i6JyU_"
   },
   "source": [
    "This is an example code for running mnist->usps setting. Other settings follow the same workflow and only data-to-acc function and DA models need to be replaced accordingly."
   ]
  },
  {
   "cell_type": "markdown",
   "metadata": {
    "id": "1G_-MNjO8aLS"
   },
   "source": [
    "# Import Libraries"
   ]
  },
  {
   "cell_type": "code",
   "execution_count": 2,
   "metadata": {
    "ExecuteTime": {
     "end_time": "2021-07-16T06:37:18.859403Z",
     "start_time": "2021-07-16T06:37:18.449804Z"
    },
    "id": "m9sihl5nxMz8"
   },
   "outputs": [],
   "source": [
    "import torch\n",
    "import torch.nn as nn\n",
    "import torch.optim as optim\n",
    "from torch.autograd import Variable\n",
    "import torch.nn.functional as F\n",
    "from torch.optim.lr_scheduler import StepLR, MultiStepLR\n",
    "\n",
    "from sklearn.model_selection import train_test_split\n",
    "from sklearn.linear_model import LogisticRegression\n",
    "\n",
    "from tensorflow import keras\n",
    "from tensorflow.keras.layers import Input, Flatten, Dense, LeakyReLU, Dropout\n",
    "from tensorflow.keras.models import Sequential\n",
    "from tensorflow.keras.layers import Activation, Flatten, Dense, Conv2D, MaxPooling2D\n",
    "from tensorflow.keras import backend as K\n",
    "from tensorflow.keras.models import clone_model\n",
    "from tensorflow.keras import Model\n",
    "from tensorflow.keras.datasets import mnist\n",
    "from tensorflow.keras import utils\n",
    "\n",
    "import tensorflow.compat.v1 as tf\n",
    "from tensorflow.keras import regularizers\n",
    "from tensorflow.keras import initializers\n",
    "\n",
    "import numpy as np\n",
    "import collections\n",
    "import copy\n",
    "import pandas as pd \n",
    "import matplotlib.pyplot as plt \n",
    "import scipy.optimize as op \n",
    "import seaborn as sns\n",
    "\n",
    "import pickle"
   ]
  },
  {
   "cell_type": "code",
   "execution_count": null,
   "metadata": {
    "colab": {
     "base_uri": "https://localhost:8080/"
    },
    "id": "ML2ypfOW1wlw",
    "outputId": "de9aa781-655b-445d-c35e-e879a5dffa9c"
   },
   "outputs": [
    {
     "name": "stdout",
     "output_type": "stream",
     "text": [
      "Looking in indexes: https://pypi.org/simple, https://test.pypi.org/simple/\n",
      "Collecting decile-distil\n",
      "\u001b[?25l  Downloading https://files.pythonhosted.org/packages/dd/2d/6cb8be2578f77909f6038685a175141575c5ce83dddee7d4ca8d9c042a97/decile-distil-0.2.0.tar.gz (58kB)\n",
      "\u001b[K     |████████████████████████████████| 61kB 7.5MB/s \n",
      "\u001b[?25hRequirement already satisfied: numpy>=1.14.2 in /usr/local/lib/python3.7/dist-packages (from decile-distil) (1.19.5)\n",
      "Requirement already satisfied: scipy>=1.0.0 in /usr/local/lib/python3.7/dist-packages (from decile-distil) (1.4.1)\n",
      "Requirement already satisfied: numba>=0.43.0 in /usr/local/lib/python3.7/dist-packages (from decile-distil) (0.51.2)\n",
      "Requirement already satisfied: tqdm>=4.24.0 in /usr/local/lib/python3.7/dist-packages (from decile-distil) (4.41.1)\n",
      "Requirement already satisfied: torch>=1.4.0 in /usr/local/lib/python3.7/dist-packages (from decile-distil) (1.8.1+cu101)\n",
      "Collecting apricot-select>=0.6.0\n",
      "  Downloading https://files.pythonhosted.org/packages/b8/96/7d9aec6ab622449aad7556101e90c2ef67b72b7cf33ded6cc9326a41e169/apricot-select-0.6.1.tar.gz\n",
      "Requirement already satisfied: llvmlite<0.35,>=0.34.0.dev0 in /usr/local/lib/python3.7/dist-packages (from numba>=0.43.0->decile-distil) (0.34.0)\n",
      "Requirement already satisfied: setuptools in /usr/local/lib/python3.7/dist-packages (from numba>=0.43.0->decile-distil) (57.0.0)\n",
      "Requirement already satisfied: typing-extensions in /usr/local/lib/python3.7/dist-packages (from torch>=1.4.0->decile-distil) (3.7.4.3)\n",
      "Collecting nose\n",
      "\u001b[?25l  Downloading https://files.pythonhosted.org/packages/15/d8/dd071918c040f50fa1cf80da16423af51ff8ce4a0f2399b7bf8de45ac3d9/nose-1.3.7-py3-none-any.whl (154kB)\n",
      "\u001b[K     |████████████████████████████████| 163kB 25.5MB/s \n",
      "\u001b[?25hBuilding wheels for collected packages: decile-distil, apricot-select\n",
      "  Building wheel for decile-distil (setup.py) ... \u001b[?25l\u001b[?25hdone\n",
      "  Created wheel for decile-distil: filename=decile_distil-0.2.0-cp37-none-any.whl size=87203 sha256=d67d1bc950f1a08bf9a4e34d57736c473b6061b20f7bef79e01f2f204ff71a5a\n",
      "  Stored in directory: /root/.cache/pip/wheels/56/46/90/ce2122a1e6533b3cebca9301749b753ff1ea799b2ea778bad1\n",
      "  Building wheel for apricot-select (setup.py) ... \u001b[?25l\u001b[?25hdone\n",
      "  Created wheel for apricot-select: filename=apricot_select-0.6.1-cp37-none-any.whl size=48788 sha256=906bc2c465718fe4d904d3dafa1e951bb1539a74ca5053e384b9279f035a95fb\n",
      "  Stored in directory: /root/.cache/pip/wheels/27/53/c1/67fd7b8bd5be9d506fdac6bb9b73b5c69734da8210833998fa\n",
      "Successfully built decile-distil apricot-select\n",
      "Installing collected packages: nose, apricot-select, decile-distil\n",
      "Successfully installed apricot-select-0.6.1 decile-distil-0.2.0 nose-1.3.7\n"
     ]
    }
   ],
   "source": [
    "# !pip install --extra-index-url https://test.pypi.org/simple/decile-distil"
   ]
  },
  {
   "cell_type": "code",
   "execution_count": null,
   "metadata": {
    "colab": {
     "base_uri": "https://localhost:8080/"
    },
    "id": "VGiFXzFw9y60",
    "outputId": "83264893-7365-4a0a-b86b-279765a99493"
   },
   "outputs": [
    {
     "name": "stdout",
     "output_type": "stream",
     "text": [
      "Mounted at /content/gdrive\n"
     ]
    }
   ],
   "source": [
    "from google.colab import drive\n",
    "drive.mount('/content/gdrive')\n",
    "prefix = '/content/gdrive/My Drive/'"
   ]
  },
  {
   "cell_type": "markdown",
   "metadata": {
    "id": "M2bDzlaSEs_n"
   },
   "source": [
    "### Sample Utility"
   ]
  },
  {
   "cell_type": "code",
   "execution_count": null,
   "metadata": {
    "id": "wjGtjvQpQVWn"
   },
   "outputs": [],
   "source": [
    "def sample_utility(n, size_min, size_max, utility_func, utility_func_args, random_state, ub_prob=0.2, verbose=False):\n",
    "\n",
    "    x_train, y_train, x_val, y_val = utility_func_args\n",
    "\n",
    "    X_feature_test = []\n",
    "    y_feature_test = []\n",
    "\n",
    "    x_train = np.array(x_train)\n",
    "    y_train = np.array(y_train)\n",
    "\n",
    "    N = len(y_train)\n",
    "\n",
    "    np.random.seed(random_state)\n",
    "\n",
    "    for i in range(n):\n",
    "        if verbose:\n",
    "            print('{} / {}'.format(i, n))\n",
    "\n",
    "        n_select = np.random.choice(range(size_min, size_max))\n",
    "\n",
    "        subset_index = []\n",
    "\n",
    "        \"\"\"\n",
    "    if unbalance:\n",
    "      n_per_class = int(N / 10)\n",
    "      alpha = np.ones(10)\n",
    "      alpha[np.random.choice(range(10))] = np.random.choice(range(1, 50))\n",
    "    else:\n",
    "      alpha = np.random.choice(range(1, 20), size=10, replace=True)\n",
    "    \"\"\"\n",
    "\n",
    "        toss = np.random.uniform()\n",
    "\n",
    "        # With probability ub_prob, sample a class-imbalanced subset\n",
    "        if toss > 1-ub_prob:\n",
    "            n_per_class = int(N / 10)\n",
    "            alpha = np.ones(10)\n",
    "            alpha[np.random.choice(range(10))] = np.random.choice(range(1, 50))\n",
    "        else:\n",
    "            alpha = np.random.choice(range(90, 100), size=10, replace=True)\n",
    "\n",
    "        p = np.random.dirichlet(alpha=alpha)\n",
    "        occur = np.random.choice(range(10), size=n_select, replace=True, p=p)\n",
    "        counts = np.array([np.sum(occur == i) for i in range(10)])\n",
    "\n",
    "        for i in range(10):\n",
    "            ind_i = np.where(np.argmax(y_train, 1) == i)[0]\n",
    "            if len(ind_i) > counts[i]:\n",
    "                selected_ind_i = np.random.choice(\n",
    "                    ind_i, size=counts[i], replace=False)\n",
    "            else:\n",
    "                selected_ind_i = np.random.choice(\n",
    "                    ind_i, size=counts[i], replace=True)\n",
    "            subset_index = subset_index + list(selected_ind_i)\n",
    "\n",
    "        subset_index = np.array(subset_index)\n",
    "\n",
    "        y_feature_test.append(utility_func(\n",
    "            x_train[subset_index], y_train[subset_index], x_val, y_val))\n",
    "        X_feature_test.append(subset_index)\n",
    "\n",
    "    return X_feature_test, y_feature_test\n",
    "\n",
    "\n",
    "def sample_utility_veryub(n, size_min, size_max, utility_func, utility_func_args, random_state, ub_prob=0.2, verbose=False):\n",
    "\n",
    "    x_train, y_train, x_val, y_val = utility_func_args\n",
    "\n",
    "    X_feature_test = []\n",
    "    y_feature_test = []\n",
    "\n",
    "    x_train = np.array(x_train)\n",
    "    y_train = np.array(y_train)\n",
    "\n",
    "    N = len(y_train)\n",
    "\n",
    "    np.random.seed(random_state)\n",
    "\n",
    "    for i in range(n):\n",
    "        if verbose:\n",
    "            print('{} / {}'.format(i, n))\n",
    "\n",
    "        n_select = np.random.choice(range(size_min, size_max))\n",
    "\n",
    "        if n_select > 0:\n",
    "            subset_index = []\n",
    "\n",
    "            toss = np.random.uniform()\n",
    "\n",
    "            # With probability ub_prob, sample a class-imbalanced subset\n",
    "            if toss > 1-ub_prob:\n",
    "                alpha = np.random.choice(range(1, 100), size=10, replace=True)\n",
    "            else:\n",
    "                alpha = np.random.choice(range(90, 100), size=10, replace=True)\n",
    "\n",
    "            p = np.random.dirichlet(alpha=alpha)\n",
    "            occur = np.random.choice(\n",
    "                range(10), size=n_select, replace=True, p=p)\n",
    "            counts = np.array([np.sum(occur == i) for i in range(10)])\n",
    "\n",
    "            for i in range(10):\n",
    "                ind_i = np.where(np.argmax(y_train, 1) == i)[0]\n",
    "                if len(ind_i) > counts[i]:\n",
    "                    selected_ind_i = np.random.choice(\n",
    "                        ind_i, size=counts[i], replace=False)\n",
    "                else:\n",
    "                    selected_ind_i = np.random.choice(\n",
    "                        ind_i, size=counts[i], replace=True)\n",
    "                subset_index = subset_index + list(selected_ind_i)\n",
    "\n",
    "            subset_index = np.array(subset_index)\n",
    "\n",
    "            y_feature_test.append(utility_func(\n",
    "                x_train[subset_index], y_train[subset_index], x_val, y_val))\n",
    "            X_feature_test.append(subset_index)\n",
    "        else:\n",
    "            y_feature_test.append(0.1)\n",
    "            X_feature_test.append(np.array([]))\n",
    "\n",
    "    return X_feature_test, y_feature_test"
   ]
  },
  {
   "cell_type": "markdown",
   "metadata": {
    "id": "8GAMKeuA9kaA"
   },
   "source": [
    "### Deep Sets"
   ]
  },
  {
   "cell_type": "code",
   "execution_count": null,
   "metadata": {
    "code_folding": [],
    "id": "RTtXlOWs9kaB"
   },
   "outputs": [],
   "source": [
    "class DeepSet(nn.Module):\n",
    "\n",
    "    def __init__(self, in_features, set_features=128, hidden_ext=128, hidden_reg=128):\n",
    "        super(DeepSet, self).__init__()\n",
    "        self.in_features = in_features\n",
    "        self.out_features = set_features\n",
    "        self.feature_extractor = nn.Sequential(\n",
    "            nn.Linear(in_features, hidden_ext, bias=False),\n",
    "            nn.ELU(inplace=True),\n",
    "            nn.Linear(hidden_ext, hidden_ext, bias=False),\n",
    "            nn.ELU(inplace=True),\n",
    "            nn.Linear(hidden_ext, set_features, bias=False)\n",
    "        )\n",
    "\n",
    "        self.regressor = nn.Sequential(\n",
    "            nn.Linear(set_features, hidden_reg, bias=False),\n",
    "            nn.ELU(inplace=True),\n",
    "            nn.Linear(hidden_reg, hidden_reg, bias=False),\n",
    "            nn.ELU(inplace=True),\n",
    "            nn.Linear(hidden_reg, int(hidden_reg/2), bias=False),\n",
    "            nn.ELU(inplace=True)\n",
    "        )\n",
    "\n",
    "        self.linear = nn.Linear(int(hidden_reg/2), 1)\n",
    "        self.sigmoid = nn.Sigmoid()\n",
    "        \n",
    "        self.add_module('0', self.feature_extractor)\n",
    "        self.add_module('1', self.regressor)\n",
    "        \n",
    "    def reset_parameters(self):\n",
    "        for module in self.children():\n",
    "            reset_op = getattr(module, \"reset_parameters\", None)\n",
    "            if callable(reset_op):\n",
    "                reset_op()\n",
    "            \n",
    "    def forward(self, input):\n",
    "        x = input\n",
    "        x = self.feature_extractor(x)\n",
    "        x = x.sum(dim=1)\n",
    "        x = self.regressor(x)\n",
    "        x = self.linear(x)\n",
    "        x = self.sigmoid(x)\n",
    "        return x\n",
    "\n",
    "    def __repr__(self):\n",
    "        return self.__class__.__name__ + '(' \\\n",
    "            + 'Feature Exctractor=' + str(self.feature_extractor) \\\n",
    "            + '\\n Set Feature' + str(self.regressor) + ')'\n",
    "\n",
    "\n",
    "class DeepSet_cifar(nn.Module):\n",
    "\n",
    "    def __init__(self, in_features, set_features=512):\n",
    "        super(DeepSet_cifar, self).__init__()\n",
    "        self.in_features = in_features\n",
    "        self.out_features = set_features\n",
    "        self.feature_extractor = nn.Sequential(\n",
    "            nn.Linear(in_features, 512),\n",
    "            nn.ELU(inplace=True),\n",
    "            nn.Linear(512, 512),\n",
    "            nn.ELU(inplace=True),\n",
    "            nn.Linear(512, set_features)\n",
    "        )\n",
    "\n",
    "        self.regressor = nn.Sequential(\n",
    "            nn.Linear(set_features, 512),\n",
    "            nn.ELU(inplace=True),\n",
    "            nn.Linear(512, 512),\n",
    "            nn.ELU(inplace=True),\n",
    "            nn.Linear(512, 512),\n",
    "            nn.ELU(inplace=True),\n",
    "            nn.Linear(512, 1),\n",
    "            nn.Sigmoid()\n",
    "        )\n",
    "        \n",
    "        self.add_module('0', self.feature_extractor)\n",
    "        self.add_module('1', self.regressor)\n",
    "        \n",
    "        \n",
    "    def reset_parameters(self):\n",
    "        for module in self.children():\n",
    "            reset_op = getattr(module, \"reset_parameters\", None)\n",
    "            if callable(reset_op):\n",
    "                reset_op()\n",
    "            \n",
    "    def forward(self, input):\n",
    "        x = input\n",
    "        x = self.feature_extractor(x)\n",
    "        x = x.sum(dim=1)\n",
    "        x = self.regressor(x)\n",
    "        return x\n",
    "\n",
    "    def __repr__(self):\n",
    "        return self.__class__.__name__ + '(' \\\n",
    "            + 'Feature Exctractor=' + str(self.feature_extractor) \\\n",
    "            + '\\n Set Feature' + str(self.regressor) + ')'"
   ]
  },
  {
   "cell_type": "markdown",
   "metadata": {
    "id": "woCNVXrjaeIX"
   },
   "source": [
    "### Deepset Utility Learning Model"
   ]
  },
  {
   "cell_type": "code",
   "execution_count": null,
   "metadata": {
    "id": "nsWXqmyHaaI1"
   },
   "outputs": [],
   "source": [
    "class Utility_deepset(object):\n",
    "\n",
    "    def __init__(self, model=None):\n",
    "        \"\"\"\n",
    "        if model is None:\n",
    "          self.model = DeepSet(in_dims).cuda()\n",
    "        else:\n",
    "          self.model = model.cuda()\n",
    "        \"\"\"\n",
    "\n",
    "        self.model = model\n",
    "\n",
    "        self.model.linear.bias = torch.nn.Parameter(torch.tensor([-2.1972]))\n",
    "        self.model.linear.bias.requires_grad = False\n",
    "        # print(self.model.linear.bias)\n",
    "        self.model.cuda()\n",
    "        # print(self.model.linear.bias)\n",
    "\n",
    "        self.l1 = nn.L1Loss()\n",
    "        self.l2 = nn.MSELoss(reduction='sum')\n",
    "\n",
    "    # train_data: x_train_few\n",
    "    # train_set: (X_feature, y_feature)\n",
    "    # valid_set: (X_feature_test, y_feature_test)\n",
    "    def fit(self, train_data, train_set, valid_set, n_epoch, batch_size=32, lr=1e-3):\n",
    "\n",
    "        self.optim = optim.Adam(self.model.parameters(), lr)\n",
    "\n",
    "        #scheduler = StepLR(self.optim, step_size=10, gamma=0.1)\n",
    "        scheduler = MultiStepLR(self.optim, milestones=[10, 15], gamma=0.1)\n",
    "\n",
    "        train_data = copy.deepcopy(train_data)\n",
    "        N = train_data.shape[0]\n",
    "        k = train_data.shape[1]\n",
    "\n",
    "        X_feature, y_feature = train_set\n",
    "        X_feature_test, y_feature_test = valid_set\n",
    "        train_size = len(y_feature)\n",
    "\n",
    "        for epoch in range(n_epoch):\n",
    "\n",
    "            # Shuffle training utility samples\n",
    "            ind = np.arange(train_size, dtype=int)\n",
    "            np.random.shuffle(ind)\n",
    "            X_feature = [X_feature[i] for i in ind]\n",
    "            y_feature = y_feature[ind]\n",
    "\n",
    "            train_loss = 0\n",
    "            start_ind = 0\n",
    "\n",
    "            for j in range(train_size//batch_size):\n",
    "                start_ind = j*batch_size\n",
    "                batch_X, batch_y = [], []\n",
    "                for i in range(start_ind, min(start_ind+batch_size, train_size)):\n",
    "\n",
    "                    b = np.zeros((N, k))\n",
    "                    if len(X_feature[i]) > 0:\n",
    "                        selected_train_data = train_data[X_feature[i]]\n",
    "                        b[:len(X_feature[i])] = selected_train_data\n",
    "\n",
    "                    batch_X.append(b)\n",
    "                    batch_y.append([y_feature[i]])\n",
    "\n",
    "                batch_X = np.stack(batch_X)\n",
    "                batch_X, batch_y = torch.FloatTensor(\n",
    "                    batch_X).cuda(), torch.FloatTensor(batch_y).cuda()\n",
    "\n",
    "                self.optim.zero_grad()\n",
    "                y_pred = self.model(batch_X)\n",
    "                loss = self.l2(y_pred, batch_y)\n",
    "                loss_val = np.asscalar(loss.data.cpu().numpy())\n",
    "                loss.backward()\n",
    "                self.optim.step()\n",
    "                train_loss += loss_val\n",
    "            train_loss /= train_size\n",
    "            test_loss = self.evaluate(train_data, valid_set)\n",
    "            scheduler.step()\n",
    "            print('Epoch %s Train Loss %s Test Loss %s' %\n",
    "                  (epoch, train_loss, test_loss))\n",
    "            # print(self.model.linear.bias)\n",
    "\n",
    "    def evaluate(self, train_data, valid_set):\n",
    "\n",
    "        N, k = train_data.shape\n",
    "        X_feature_test, y_feature_test = valid_set\n",
    "\n",
    "        test_size = len(y_feature_test)\n",
    "        test_loss = 0\n",
    "\n",
    "        for i in range(test_size):\n",
    "\n",
    "            b = np.zeros((N, k))\n",
    "            if len(X_feature_test[i]) > 0:\n",
    "                selected_train_data = train_data[X_feature_test[i]]\n",
    "                b[:len(X_feature_test[i])] = selected_train_data\n",
    "\n",
    "            batch_X, batch_y = torch.FloatTensor(\n",
    "                b).cuda(), torch.FloatTensor(y_feature_test[i:i+1]).cuda()\n",
    "            batch_X, batch_y = batch_X.reshape(\n",
    "                (1, N, k)), batch_y.reshape((1, 1))\n",
    "            y_pred = self.model(batch_X)\n",
    "\n",
    "            loss = self.l2(y_pred, batch_y)\n",
    "            loss_val = np.asscalar(loss.data.cpu().numpy())\n",
    "            test_loss += loss_val\n",
    "        test_loss /= test_size\n",
    "        return test_loss\n",
    "\n",
    "\n",
    "def array_to_lst(X_feature):\n",
    "\n",
    "    if type(X_feature) == list:\n",
    "        return X_feature\n",
    "\n",
    "    X_feature = list(X_feature)\n",
    "    for i in range(len(X_feature)):\n",
    "        X_feature[i] = X_feature[i].nonzero()[0]\n",
    "    return X_feature\n",
    "\n",
    "\n",
    "def findMostValuableSample_deepset_greedy(model, unlabeled_set, target_size):\n",
    "\n",
    "    model = model.cuda()\n",
    "\n",
    "    N, input_dim = unlabeled_set.shape\n",
    "    k = target_size\n",
    "\n",
    "    selected_subset = np.zeros(N)\n",
    "    selected_rank = []\n",
    "    selected_data = np.zeros((N, input_dim))\n",
    "\n",
    "    for i in range(k):\n",
    "        print(i)\n",
    "        maxIndex, maxVal = -1, -1\n",
    "        prevUtility = model(torch.FloatTensor(\n",
    "            selected_data.reshape((1, N, input_dim))).cuda())\n",
    "        searchRange = np.where(selected_subset == 0)[0]\n",
    "        for j in searchRange:\n",
    "            selected_subset[j] = 1\n",
    "            selected_data[j] = unlabeled_set[j]\n",
    "            utility = model(torch.FloatTensor(\n",
    "                selected_data.reshape((1, N, input_dim))).cuda())\n",
    "            selected_subset[j] = 0\n",
    "            selected_data[j] = np.zeros(input_dim)\n",
    "            if utility - prevUtility > maxVal:\n",
    "                maxIndex = j\n",
    "                maxVal = utility - prevUtility\n",
    "        selected_subset[maxIndex] = 1\n",
    "        selected_rank.append(maxIndex)\n",
    "        selected_data[maxIndex] = unlabeled_set[maxIndex]\n",
    "\n",
    "    return selected_subset, selected_rank, selected_data\n",
    "\n",
    "\n",
    "def findMostValuableSample_deepset_stochasticgreedy(model, unlabeled_set, target_size, epsilon, seed, verbose=False, debug=False, label=None):\n",
    "    # unlabeled_set is feature\n",
    "\n",
    "    model = model.cuda()\n",
    "\n",
    "    N, input_dim = unlabeled_set.shape\n",
    "    k = target_size\n",
    "\n",
    "    selected_subset = np.zeros(N)\n",
    "    selected_rank = []\n",
    "\n",
    "    R = int((N/k)*np.log(1/epsilon))\n",
    "\n",
    "    print('Sample Size R={}'.format(R))\n",
    "\n",
    "    if debug:\n",
    "        R = 10\n",
    "        print('Sample Size R={}'.format(R))\n",
    "\n",
    "    np.random.seed(seed)\n",
    "    selected_data = np.zeros((N, input_dim))\n",
    "\n",
    "    for i in range(k):\n",
    "        if verbose:\n",
    "            print(i)\n",
    "\n",
    "        maxIndex, maxVal = -1, -1\n",
    "\n",
    "        prevUtility = model(torch.FloatTensor(\n",
    "            selected_data.reshape((1, N, input_dim))).cuda())\n",
    "        searchRange = np.where(selected_subset == 0)[0]\n",
    "\n",
    "        if debug:\n",
    "            print('Step {}, prevUtility={}'.format(i, prevUtility))\n",
    "\n",
    "        if R < len(searchRange):\n",
    "            searchRange = np.random.choice(searchRange, size=R, replace=False)\n",
    "\n",
    "        for j in searchRange:\n",
    "            selected_subset[j] = 1\n",
    "            selected_data[j] = unlabeled_set[j]\n",
    "            utility = model(torch.FloatTensor(\n",
    "                selected_data.reshape((1, N, input_dim))).cuda())\n",
    "            selected_subset[j] = 0\n",
    "            selected_data[j] = np.zeros(input_dim)\n",
    "            gain = (utility - prevUtility).cpu().detach().numpy()[0][0]\n",
    "\n",
    "            if gain > maxVal:\n",
    "                maxIndex = j\n",
    "                maxVal = gain\n",
    "\n",
    "            if debug:\n",
    "                print('  Gain from {} is {}, label={}'.format(\n",
    "                    j, gain, label[j]))\n",
    "                print('  maxIndex={}, maxVal={}, labelMaxIndex={}'.format(\n",
    "                    maxIndex, maxVal, label[maxIndex]))\n",
    "\n",
    "        selected_subset[maxIndex] = 1\n",
    "        selected_rank.append(maxIndex)\n",
    "        selected_data[maxIndex] = unlabeled_set[maxIndex]\n",
    "\n",
    "    return selected_subset, selected_rank, selected_data"
   ]
  },
  {
   "cell_type": "markdown",
   "metadata": {
    "id": "oesTuGfx3G-9"
   },
   "source": [
    "## Add Gaussian Noise"
   ]
  },
  {
   "cell_type": "code",
   "execution_count": null,
   "metadata": {
    "id": "PvGYLdeD3GVq"
   },
   "outputs": [],
   "source": [
    "from google.colab.patches import cv2_imshow\n",
    "\n",
    "def addGaussianNoise(x_train, scale=1):\n",
    "  return np.clip(x_train+np.random.normal(scale=scale, size=x_train.shape), 0, 1)"
   ]
  },
  {
   "cell_type": "markdown",
   "metadata": {
    "id": "pW1R9yXTyIOz"
   },
   "source": [
    "## Image Preprocess"
   ]
  },
  {
   "cell_type": "markdown",
   "metadata": {
    "id": "r43HWiPyyUSq"
   },
   "source": [
    "### USPS"
   ]
  },
  {
   "cell_type": "code",
   "execution_count": null,
   "metadata": {
    "id": "zGTAXueMx3Dk"
   },
   "outputs": [],
   "source": [
    "import torch.utils.data as torchdata\n",
    "import torchvision.transforms as transforms\n",
    "import torchvision\n",
    "import numpy as np\n",
    "import pandas as pd\n",
    "import os\n",
    "\n",
    "import h5py\n",
    "from functools import reduce\n",
    "\n",
    "\n",
    "def hdf5(path, data_key=\"data\", target_key=\"target\", flatten=True):\n",
    "    \"\"\"\n",
    "        loads data from hdf5: \n",
    "        - hdf5 should have 'train' and 'test' groups \n",
    "        - each group should have 'data' and 'target' dataset or spcify the key\n",
    "        - flatten means to flatten images N * (C * H * W) as N * D array\n",
    "    \"\"\"\n",
    "    with h5py.File(path, 'r') as hf:\n",
    "        train = hf.get('train')\n",
    "        X_tr = train.get(data_key)[:]\n",
    "        y_tr = train.get(target_key)[:]\n",
    "        test = hf.get('test')\n",
    "        X_te = test.get(data_key)[:]\n",
    "        y_te = test.get(target_key)[:]\n",
    "        if flatten:\n",
    "            X_tr = X_tr.reshape(X_tr.shape[0], reduce(\n",
    "                lambda a, b: a * b, X_tr.shape[1:]))\n",
    "            X_te = X_te.reshape(X_te.shape[0], reduce(\n",
    "                lambda a, b: a * b, X_te.shape[1:]))\n",
    "    return X_tr, y_tr, X_te, y_te\n",
    "\n",
    "\n",
    "usps_dir = prefix + 'active-learning-transfer/usps/'\n",
    "\n",
    "\n",
    "def usps_encoderProcess(x_train, y_train, x_test, y_test):\n",
    "\n",
    "    N_train = len(y_train)\n",
    "    N_test = len(y_test)\n",
    "\n",
    "    x_train = x_train.reshape(N_train, 16, 16, 1)\n",
    "    x_test = x_test.reshape(N_test, 16, 16, 1)\n",
    "\n",
    "    x_transfer = transforms.Compose([transforms.ToPILImage(),\n",
    "                                     transforms.Resize(28),\n",
    "                                     transforms.ToTensor(),\n",
    "                                     # transforms.Normalize((0.2539,), (0.3842,))\n",
    "                                     transforms.Normalize((0.5,), (0.5,))])\n",
    "\n",
    "    x_train_r = []\n",
    "    for i in range(x_train.shape[0]):\n",
    "        x_r = x_transfer(x_train[i])\n",
    "        x_train_r.append(x_r)\n",
    "\n",
    "    b = torch.Tensor(N_train, 1, 28, 28)\n",
    "    x_train_r = torch.cat(x_train_r, out=b)\n",
    "    x_train_r = x_train_r.reshape(N_train, 1, 28, 28)\n",
    "\n",
    "    x_test_r = []\n",
    "    for i in range(x_test.shape[0]):\n",
    "        x_r = x_transfer(x_test[i])\n",
    "        x_test_r.append(x_r)\n",
    "\n",
    "    b = torch.Tensor(N_test, 1, 28, 28)\n",
    "    x_test_r = torch.cat(x_test_r, out=b)\n",
    "    x_test_r = x_test_r.reshape(N_test, 1, 28, 28)\n",
    "\n",
    "    y_train = torch.Tensor(y_train).long()\n",
    "    y_test = torch.Tensor(y_test).long()\n",
    "\n",
    "    return x_train_r, y_train, x_test_r, y_test"
   ]
  },
  {
   "cell_type": "markdown",
   "metadata": {
    "id": "T0GlmanP92IN"
   },
   "source": [
    "### USPS data to acc"
   ]
  },
  {
   "cell_type": "code",
   "execution_count": null,
   "metadata": {
    "id": "FR33o9Dt95tC"
   },
   "outputs": [],
   "source": [
    "from sklearn.svm import LinearSVC\n",
    "from sklearn.linear_model import LogisticRegression\n",
    "\n",
    "\n",
    "def usps_logistic_data_to_acc(x_train, y_train, x_test, y_test):\n",
    "\n",
    "    if len(np.unique(y_train)) == 1:\n",
    "        return 0.1\n",
    "\n",
    "    model = LogisticRegression(max_iter=1000)\n",
    "    model.fit(x_train, y_train)\n",
    "    return model.score(x_test, y_test)\n",
    "\n",
    "\n",
    "def usps_svm_data_to_acc(x_train, y_train, x_test, y_test):\n",
    "\n",
    "    if len(np.unique(y_train)) == 1:\n",
    "        return 0.1\n",
    "\n",
    "    model = LinearSVC(C=0.1)\n",
    "    model.fit(x_train, y_train)\n",
    "    return model.score(x_test, y_test)"
   ]
  },
  {
   "cell_type": "markdown",
   "metadata": {
    "id": "ivoAtehlyYD6"
   },
   "source": [
    "### MNIST"
   ]
  },
  {
   "cell_type": "code",
   "execution_count": null,
   "metadata": {
    "id": "Ttes_FWYyYky"
   },
   "outputs": [],
   "source": [
    "def mnist_encoderProcess(x_train, y_train, x_test, y_test):\n",
    "\n",
    "    N_train = len(y_train)\n",
    "    N_test = len(y_test)\n",
    "\n",
    "    x_train = x_train.reshape(N_train, 28, 28, 1)\n",
    "    x_test = x_test.reshape(N_test, 28, 28, 1)\n",
    "\n",
    "    x_train = x_train.astype(np.float32)\n",
    "    x_test = x_test.astype(np.float32)\n",
    "\n",
    "    x_transfer = transforms.Compose([transforms.ToPILImage(),\n",
    "                                     # transforms.Resize(32),\n",
    "                                     transforms.ToTensor(),\n",
    "                                     # transforms.Normalize((0.1307,), (0.3081,))\n",
    "                                     transforms.Normalize((0.5,), (0.5,))])\n",
    "\n",
    "    x_train_r = []\n",
    "    for i in range(x_train.shape[0]):\n",
    "        x_r = x_transfer(x_train[i])\n",
    "        x_train_r.append(x_r)\n",
    "\n",
    "    b = torch.Tensor(N_train, 1, 28, 28)\n",
    "    x_train_r = torch.cat(x_train_r, out=b)\n",
    "    x_train_r = x_train_r.reshape(N_train, 1, 28, 28)\n",
    "\n",
    "    x_test_r = []\n",
    "    for i in range(x_test.shape[0]):\n",
    "        x_r = x_transfer(x_test[i])\n",
    "        x_test_r.append(x_r)\n",
    "\n",
    "    b = torch.Tensor(N_test, 1, 28, 28)\n",
    "    x_test_r = torch.cat(x_test_r, out=b)\n",
    "    x_test_r = x_test_r.reshape(N_test, 1, 28, 28)\n",
    "\n",
    "    y_train = torch.Tensor(y_train).long()\n",
    "    y_test = torch.Tensor(y_test).long()\n",
    "\n",
    "    return x_train_r, y_train, x_test_r, y_test"
   ]
  },
  {
   "cell_type": "markdown",
   "metadata": {
    "id": "ZfZDd6pCylsq"
   },
   "source": [
    "### MNIST data to acc"
   ]
  },
  {
   "cell_type": "code",
   "execution_count": null,
   "metadata": {
    "id": "sKz19oLNyYnk"
   },
   "outputs": [],
   "source": [
    "# NOTE: y_train should be one-hot vector\n",
    "def mnist_logistic_data_to_acc(x_train, y_train, x_test, y_test, verbose=0):\n",
    "\n",
    "    if len(np.sum(y_train, axis=0).nonzero()[0]) == 1:\n",
    "        return 0.1\n",
    "\n",
    "    x_train_1d = x_train.reshape((x_train.shape[0], -1))\n",
    "\n",
    "    model = Sequential()\n",
    "    model.add(Dense(10, activation='softmax', input_dim=784))\n",
    "    model.compile(optimizer='adam',\n",
    "                  loss='categorical_crossentropy', metrics=['accuracy'])\n",
    "    model.fit(x_train_1d, y_train, epochs=5, verbose=verbose)\n",
    "    acc = model.evaluate(x_test.reshape((x_test.shape[0], -1)), y_test)[1]\n",
    "\n",
    "    return acc\n",
    "\n",
    "\n",
    "def mnist_logistic_data_to_acc_multiple(x_train, y_train, repeat=3, verbose=0):\n",
    "    acc_lst = []\n",
    "    for _ in range(repeat):\n",
    "        acc = mnist_logistic_data_to_acc(x_train, y_train, verbose)\n",
    "        acc_lst.append(acc)\n",
    "    return np.mean(acc_lst)\n",
    "\n",
    "\n",
    "def mnist_logistic_data_to_valacc(x_train, y_train, x_val, y_val, verbose=0):\n",
    "\n",
    "    # if training data only consists of 1 class, the accuracy is 0.1\n",
    "    if len(np.sum(y_train, axis=0).nonzero()[0]) == 1:\n",
    "        return 0.1\n",
    "\n",
    "    x_train_1d = x_train.reshape((x_train.shape[0], -1))\n",
    "    x_val_1d = x_val.reshape((x_val.shape[0], -1))\n",
    "\n",
    "    model = Sequential()\n",
    "    model.add(Dense(10, activation='softmax', input_dim=784))\n",
    "    model.compile(optimizer='adam',\n",
    "                  loss='categorical_crossentropy', metrics=['accuracy'])\n",
    "    model.fit(x_train_1d, y_train, epochs=5, verbose=verbose)\n",
    "    acc = model.evaluate(x_val_1d, y_val)[1]\n",
    "\n",
    "    return acc\n",
    "\n",
    "\n",
    "def mnist_logistic_data_to_valacc_multiple(x_train, y_train, x_val, y_val, repeat=3, verbose=0):\n",
    "    acc_lst = []\n",
    "    for _ in range(repeat):\n",
    "        acc = mnist_logistic_data_to_valacc(\n",
    "            x_train, y_train, x_val, y_val, verbose)\n",
    "        acc_lst.append(acc)\n",
    "    return np.mean(acc_lst)\n",
    "\n",
    "\n",
    "def mnist_cnn_data_to_acc(x_train, y_train, verbose=0):\n",
    "\n",
    "    if len(np.sum(y_train, axis=0).nonzero()[0]) == 1:\n",
    "        return 0.1\n",
    "\n",
    "    model = KerasLeNet.build(numChannels=1, imgRows=28,\n",
    "                             imgCols=28, numClasses=10)\n",
    "\n",
    "    model.compile(optimizer='adam',\n",
    "                  loss='categorical_crossentropy', metrics=['accuracy'])\n",
    "    model.fit(x_train, y_train, epochs=5, verbose=verbose)\n",
    "    acc = model.evaluate(x_test, y_test)[1]\n",
    "\n",
    "    return acc\n",
    "\n",
    "\n",
    "def mnist_cnn_data_to_acc_multiple(x_train, y_train, repeat=3, verbose=0):\n",
    "    acc_lst = []\n",
    "    for _ in range(repeat):\n",
    "        acc = mnist_cnn_data_to_acc(x_train, y_train, verbose)\n",
    "        acc_lst.append(acc)\n",
    "    return np.mean(acc_lst)"
   ]
  },
  {
   "cell_type": "markdown",
   "metadata": {
    "id": "eGUrXCSnyvwc"
   },
   "source": [
    "## cyCADA"
   ]
  },
  {
   "cell_type": "code",
   "execution_count": null,
   "metadata": {
    "id": "dGU2-hK1zCSh"
   },
   "outputs": [],
   "source": [
    "import torch\n",
    "import torch.nn as nn\n",
    "from torch.nn import init\n",
    "import numpy as np\n",
    "\n",
    "models = {}\n",
    "def register_model(name):\n",
    "    def decorator(cls):\n",
    "        models[name] = cls\n",
    "        return cls\n",
    "    return decorator\n",
    "\n",
    "def get_model(name, num_cls=10, **args):\n",
    "    net = models[name](num_cls=num_cls, **args)\n",
    "    if torch.cuda.is_available():\n",
    "        net = net.cuda()\n",
    "    return net\n",
    "\n",
    "def init_weights(obj):\n",
    "    for m in obj.modules():\n",
    "        if isinstance(m, nn.Conv2d) or isinstance(m, nn.Linear):\n",
    "            init.xavier_normal_(m.weight)\n",
    "            m.bias.data.zero_()\n",
    "        elif isinstance(m, nn.BatchNorm2d) or isinstance(m, nn.BatchNorm1d):\n",
    "            m.reset_parameters()\n",
    "\n",
    "\n",
    "class TaskNet(nn.Module):\n",
    "\n",
    "    num_channels = 3\n",
    "    image_size = 32\n",
    "    name = 'TaskNet'\n",
    "\n",
    "    \"Basic class which does classification.\"\n",
    "    def __init__(self, num_cls=10, weights_init=None):\n",
    "        super(TaskNet, self).__init__()\n",
    "        self.num_cls = num_cls\n",
    "        self.setup_net()\n",
    "        self.criterion = nn.CrossEntropyLoss()\n",
    "        if weights_init is not None:\n",
    "            self.load(weights_init)\n",
    "        else:\n",
    "            init_weights(self)\n",
    "\n",
    "    def forward(self, x, with_ft=False):\n",
    "        x = self.conv_params(x)\n",
    "        x = x.view(x.size(0), -1)\n",
    "        x = self.fc_params(x)\n",
    "        score = self.classifier(x)\n",
    "        if with_ft:\n",
    "            return score, x\n",
    "        else:\n",
    "            return score\n",
    "\n",
    "    def setup_net(self):\n",
    "        \"\"\"Method to be implemented in each class.\"\"\"\n",
    "        pass\n",
    "\n",
    "    def load(self, init_path):\n",
    "        net_init_dict = torch.load(init_path)\n",
    "        self.load_state_dict(net_init_dict)\n",
    "\n",
    "    def save(self, out_path):\n",
    "        torch.save(self.state_dict(), out_path)\n",
    "\n",
    "@register_model('LeNet')\n",
    "class LeNet(TaskNet):\n",
    "    \"Network used for MNIST or USPS experiments.\"    \n",
    "\n",
    "    num_channels = 1\n",
    "    image_size = 28\n",
    "    name = 'LeNet'\n",
    "    out_dim = 500 # dim of last feature layer\n",
    "\n",
    "    def setup_net(self):\n",
    "\n",
    "        self.conv_params = nn.Sequential(\n",
    "                nn.Conv2d(self.num_channels, 20, kernel_size=5),\n",
    "                nn.MaxPool2d(2),\n",
    "                nn.ReLU(),\n",
    "                nn.Conv2d(20, 50, kernel_size=5),\n",
    "                nn.Dropout2d(p=0.5),\n",
    "                nn.MaxPool2d(2),\n",
    "                nn.ReLU(),\n",
    "                )\n",
    "        \n",
    "        self.fc_params = nn.Linear(50*4*4, 500)\n",
    "        self.classifier = nn.Sequential(\n",
    "                nn.ReLU(),\n",
    "                nn.Dropout(p=0.5),\n",
    "                nn.Linear(500, self.num_cls)\n",
    "                )\n",
    "\n",
    "\n",
    "@register_model('DTN')\n",
    "class DTNClassifier(TaskNet):\n",
    "    \"Classifier used for SVHN->MNIST Experiment\"\n",
    "\n",
    "    num_channels = 3\n",
    "    image_size = 32\n",
    "    name = 'DTN'\n",
    "    out_dim = 512 # dim of last feature layer\n",
    "\n",
    "    def setup_net(self):\n",
    "        self.conv_params = nn.Sequential (\n",
    "                nn.Conv2d(self.num_channels, 64, kernel_size=5, stride=2, padding=2),\n",
    "                nn.BatchNorm2d(64),\n",
    "                nn.Dropout2d(0.1),\n",
    "                nn.ReLU(),\n",
    "                nn.Conv2d(64, 128, kernel_size=5, stride=2, padding=2),\n",
    "                nn.BatchNorm2d(128),\n",
    "                nn.Dropout2d(0.3),\n",
    "                nn.ReLU(),\n",
    "                nn.Conv2d(128, 256, kernel_size=5, stride=2, padding=2),\n",
    "                nn.BatchNorm2d(256),\n",
    "                nn.Dropout2d(0.5),\n",
    "                nn.ReLU()\n",
    "                )\n",
    "    \n",
    "        self.fc_params = nn.Sequential (\n",
    "                nn.Linear(256*4*4, 512),\n",
    "                nn.BatchNorm1d(512),\n",
    "                )\n",
    "\n",
    "        self.classifier = nn.Sequential(\n",
    "                nn.ReLU(),\n",
    "                nn.Dropout(),\n",
    "                nn.Linear(512, self.num_cls)\n",
    "                )\n",
    "\n",
    "@register_model('AddaNet')\n",
    "class AddaNet(nn.Module):\n",
    "    \"Defines and Adda Network.\"\n",
    "    def __init__(self, num_cls=10, model='LeNet', src_weights_init=None,\n",
    "            weights_init=None):\n",
    "        super(AddaNet, self).__init__()\n",
    "        self.name = 'AddaNet'\n",
    "        self.base_model = model\n",
    "        self.num_cls = num_cls\n",
    "        self.cls_criterion = nn.CrossEntropyLoss()\n",
    "        self.gan_criterion = nn.CrossEntropyLoss()\n",
    "      \n",
    "        self.setup_net()\n",
    "        if weights_init is not None:\n",
    "            self.load(weights_init)\n",
    "        elif src_weights_init is not None:\n",
    "            self.load_src_net(src_weights_init)\n",
    "        else:\n",
    "            raise Exception('AddaNet must be initialized with weights.')\n",
    "        \n",
    "\n",
    "    def forward(self, x_s, x_t):\n",
    "        \"\"\"Pass source and target images through their\n",
    "        respective networks.\"\"\"\n",
    "        score_s, x_s = self.src_net(x_s, with_ft=True)\n",
    "        score_t, x_t = self.tgt_net(x_t, with_ft=True)\n",
    "\n",
    "        if self.discrim_feat:\n",
    "            d_s = self.discriminator(x_s)\n",
    "            d_t = self.discriminator(x_t)\n",
    "        else:\n",
    "            d_s = self.discriminator(score_s)\n",
    "            d_t = self.discriminator(score_t)\n",
    "        return score_s, score_t, d_s, d_t\n",
    "\n",
    "    def setup_net(self):\n",
    "        \"\"\"Setup source, target and discriminator networks.\"\"\"\n",
    "        self.src_net = get_model(self.base_model, num_cls=self.num_cls)\n",
    "        self.tgt_net = get_model(self.base_model, num_cls=self.num_cls)\n",
    "\n",
    "        input_dim = self.num_cls \n",
    "        self.discriminator = nn.Sequential(\n",
    "                nn.Linear(input_dim, 500),\n",
    "                nn.ReLU(),\n",
    "                nn.Linear(500, 500),\n",
    "                nn.ReLU(),\n",
    "                nn.Linear(500, 2),\n",
    "                )\n",
    "\n",
    "        self.image_size = self.src_net.image_size\n",
    "        self.num_channels = self.src_net.num_channels\n",
    "\n",
    "    def load(self, init_path):\n",
    "        \"Loads full src and tgt models.\"\n",
    "        net_init_dict = torch.load(init_path)\n",
    "        self.load_state_dict(net_init_dict)\n",
    "\n",
    "    def load_src_net(self, init_path):\n",
    "        \"\"\"Initialize source and target with source\n",
    "        weights.\"\"\"\n",
    "        self.src_net.load(init_path)\n",
    "        self.tgt_net.load(init_path)\n",
    "\n",
    "    def save(self, out_path):\n",
    "        torch.save(self.state_dict(), out_path)\n",
    "\n",
    "    def save_tgt_net(self, out_path):\n",
    "        torch.save(self.tgt_net.state_dict(), out_path)"
   ]
  },
  {
   "cell_type": "markdown",
   "metadata": {
    "id": "N36diIW5ytMf"
   },
   "source": [
    "# Transfer Experiment"
   ]
  },
  {
   "cell_type": "markdown",
   "metadata": {
    "id": "6zrDlpXY0M9K"
   },
   "source": [
    "## Source Domain (MNIST)"
   ]
  },
  {
   "cell_type": "markdown",
   "metadata": {
    "id": "g9GhusaV0vX1"
   },
   "source": [
    "### Load Sampled Few data and Utility Training Set (idx, utility)"
   ]
  },
  {
   "cell_type": "code",
   "execution_count": null,
   "metadata": {
    "colab": {
     "base_uri": "https://localhost:8080/"
    },
    "id": "f5_oZKBDyyM0",
    "outputId": "4c91bf0a-693c-429c-8de2-a6976e8b6b6d"
   },
   "outputs": [
    {
     "name": "stdout",
     "output_type": "stream",
     "text": [
      "4000 (4000,)\n",
      "1000 (1000,)\n"
     ]
    }
   ],
   "source": [
    "sample_dir = prefix + '/active-learning-transfer/samples'\n",
    "\n",
    "with open(sample_dir+'/MNIST_fewShot_N300_lo30_hi300_DataSeed303_Nsample4000.sample', 'rb') as f:\n",
    "    X_feature_303, y_feature_303 = pickle.load(f)\n",
    "\n",
    "with open(sample_dir+'/MNIST_fewShot_N300_lo30_hi300_DataSeed303_Nsample1000_Seed1_UnbalanceTrue.sample', 'rb') as f:\n",
    "    X_feature_ub_303, y_feature_ub_303 = pickle.load(f)\n",
    "\n",
    "X_feature_303 = array_to_lst(X_feature_303) + array_to_lst(X_feature_ub_303)\n",
    "y_feature_303 = np.concatenate((y_feature_303, y_feature_ub_303))\n",
    "\n",
    "ind = np.arange(len(X_feature_303), dtype=int)\n",
    "np.random.shuffle(ind)\n",
    "\n",
    "X_feature_303 = [X_feature_303[i] for i in ind]\n",
    "y_feature_303 = y_feature_303[ind]\n",
    "\n",
    "X_feature_test, y_feature_test = X_feature_303[4000:], y_feature_303[4000:]\n",
    "X_feature, y_feature = X_feature_303[:4000], y_feature_303[:4000]\n",
    "\n",
    "print(len(X_feature), y_feature.shape)\n",
    "print(len(X_feature_test), y_feature_test.shape)"
   ]
  },
  {
   "cell_type": "code",
   "execution_count": null,
   "metadata": {
    "colab": {
     "base_uri": "https://localhost:8080/"
    },
    "id": "Tny39TL92WXO",
    "outputId": "44625745-ff7c-4fea-9ccd-cde7c3812160"
   },
   "outputs": [
    {
     "name": "stdout",
     "output_type": "stream",
     "text": [
      "Downloading data from https://storage.googleapis.com/tensorflow/tf-keras-datasets/mnist.npz\n",
      "11493376/11490434 [==============================] - 0s 0us/step\n",
      "11501568/11490434 [==============================] - 0s 0us/step\n"
     ]
    },
    {
     "name": "stderr",
     "output_type": "stream",
     "text": [
      "/usr/local/lib/python3.7/dist-packages/torchvision/transforms/functional.py:132: UserWarning: The given NumPy array is not writeable, and PyTorch does not support non-writeable tensors. This means you can write to the underlying (supposedly non-writeable) NumPy array using the tensor. You may want to copy the array to protect its data or make it writeable before converting it to a tensor. This type of warning will be suppressed for the rest of this program. (Triggered internally at  /pytorch/torch/csrc/utils/tensor_numpy.cpp:143.)\n",
      "  img = torch.from_numpy(np.array(pic, np.float32, copy=False))\n"
     ]
    }
   ],
   "source": [
    "(x_train, y_train), (x_test, y_test) = mnist.load_data()\n",
    "\n",
    "x_train = x_train.astype(\"float32\") / 255.0\n",
    "x_test = x_test.astype(\"float32\") / 255.0\n",
    "\n",
    "x_train = x_train.reshape((x_train.shape[0], 28, 28, 1))\n",
    "x_test = x_test.reshape((x_test.shape[0], 28, 28, 1))\n",
    "\n",
    "y_train = np_utils.to_categorical(y_train, 10)\n",
    "y_test = np_utils.to_categorical(y_test, 10)\n",
    "\n",
    "\n",
    "N = 300\n",
    "x_train_few = np.zeros((30*10, 28, 28, 1))\n",
    "y_train_few = np.zeros((30*10, 10))\n",
    "\n",
    "idx_few = np.zeros(N)\n",
    "\n",
    "# Random Seed: 302, 303, 304\n",
    "np.random.seed(303)\n",
    "for i in range(10):\n",
    "    idx = (np.argmax(y_train, axis=1) == i).nonzero()[0]\n",
    "    idx_i = np.random.choice(idx, size=30, replace=False)\n",
    "    x_train_few[i*30:(i+1)*30] = x_train[idx_i]\n",
    "    y_train_few[i*30:(i+1)*30] = y_train[idx_i]\n",
    "    idx_few[i*30:(i+1)*30] = idx_i\n",
    "\n",
    "N_val = 300\n",
    "\n",
    "ind = np.random.choice(range(len(y_test)), size=N_val, replace=False)\n",
    "x_val_few, y_val_few = x_test[ind], y_test[ind]\n",
    "\n",
    "mnist_x_train_few, mnist_y_train_few, mnist_x_val_few, mnist_y_val_few = mnist_encoderProcess(\n",
    "    x_train_few, y_train_few, x_val_few, y_val_few)"
   ]
  },
  {
   "cell_type": "markdown",
   "metadata": {
    "id": "hxZFaw65DVsn"
   },
   "source": [
    "### Extract Feature"
   ]
  },
  {
   "cell_type": "code",
   "execution_count": null,
   "metadata": {
    "id": "BsZ49DrjyyK_"
   },
   "outputs": [],
   "source": [
    "def featureExtract_cycda(x, ext):\n",
    "    assert list(x.shape[1:]) == [1, ext.image_size, ext.image_size]\n",
    "    score, out = ext(x.cuda(), with_ft=True)\n",
    "    return out.view(out.size(0), -1)"
   ]
  },
  {
   "cell_type": "code",
   "execution_count": null,
   "metadata": {
    "colab": {
     "base_uri": "https://localhost:8080/"
    },
    "id": "S0qb3eLADRSc",
    "outputId": "c8f45437-a824-44bf-f498-0282044bcbcd"
   },
   "outputs": [
    {
     "data": {
      "text/plain": [
       "AddaNet(\n",
       "  (cls_criterion): CrossEntropyLoss()\n",
       "  (gan_criterion): CrossEntropyLoss()\n",
       "  (src_net): LeNet(\n",
       "    (conv_params): Sequential(\n",
       "      (0): Conv2d(1, 20, kernel_size=(5, 5), stride=(1, 1))\n",
       "      (1): MaxPool2d(kernel_size=2, stride=2, padding=0, dilation=1, ceil_mode=False)\n",
       "      (2): ReLU()\n",
       "      (3): Conv2d(20, 50, kernel_size=(5, 5), stride=(1, 1))\n",
       "      (4): Dropout2d(p=0.5, inplace=False)\n",
       "      (5): MaxPool2d(kernel_size=2, stride=2, padding=0, dilation=1, ceil_mode=False)\n",
       "      (6): ReLU()\n",
       "    )\n",
       "    (fc_params): Linear(in_features=800, out_features=500, bias=True)\n",
       "    (classifier): Sequential(\n",
       "      (0): ReLU()\n",
       "      (1): Dropout(p=0.5, inplace=False)\n",
       "      (2): Linear(in_features=500, out_features=10, bias=True)\n",
       "    )\n",
       "    (criterion): CrossEntropyLoss()\n",
       "  )\n",
       "  (tgt_net): LeNet(\n",
       "    (conv_params): Sequential(\n",
       "      (0): Conv2d(1, 20, kernel_size=(5, 5), stride=(1, 1))\n",
       "      (1): MaxPool2d(kernel_size=2, stride=2, padding=0, dilation=1, ceil_mode=False)\n",
       "      (2): ReLU()\n",
       "      (3): Conv2d(20, 50, kernel_size=(5, 5), stride=(1, 1))\n",
       "      (4): Dropout2d(p=0.5, inplace=False)\n",
       "      (5): MaxPool2d(kernel_size=2, stride=2, padding=0, dilation=1, ceil_mode=False)\n",
       "      (6): ReLU()\n",
       "    )\n",
       "    (fc_params): Linear(in_features=800, out_features=500, bias=True)\n",
       "    (classifier): Sequential(\n",
       "      (0): ReLU()\n",
       "      (1): Dropout(p=0.5, inplace=False)\n",
       "      (2): Linear(in_features=500, out_features=10, bias=True)\n",
       "    )\n",
       "    (criterion): CrossEntropyLoss()\n",
       "  )\n",
       "  (discriminator): Sequential(\n",
       "    (0): Linear(in_features=10, out_features=500, bias=True)\n",
       "    (1): ReLU()\n",
       "    (2): Linear(in_features=500, out_features=500, bias=True)\n",
       "    (3): ReLU()\n",
       "    (4): Linear(in_features=500, out_features=2, bias=True)\n",
       "  )\n",
       ")"
      ]
     },
     "execution_count": 18,
     "metadata": {
      "tags": []
     },
     "output_type": "execute_result"
    }
   ],
   "source": [
    "model_dir = prefix + '/active-learning-transfer/models/cycada/ds/iter_1_28_noise'\n",
    "adda_net_file = model_dir + '/adda_LeNet_net_mnist_usps.pth'\n",
    "net = get_model('AddaNet', num_cls=10, weights_init=adda_net_file,\n",
    "                model='LeNet')\n",
    "net.eval()"
   ]
  },
  {
   "cell_type": "code",
   "execution_count": null,
   "metadata": {
    "id": "G6S6sz1P1zpV"
   },
   "outputs": [],
   "source": [
    "mnist_x_train_few_resNetFeature = featureExtract_cycda(mnist_x_train_few, net.src_net)\n",
    "mnist_x_train_few_resNetFeature = mnist_x_train_few_resNetFeature.cpu().detach().numpy()\n",
    "\n",
    "mnist_x_val_few_resNetFeature = featureExtract_cycda(mnist_x_val_few, net.src_net)\n",
    "mnist_x_val_few_resNetFeature = mnist_x_val_few_resNetFeature.cpu().detach().numpy()"
   ]
  },
  {
   "cell_type": "code",
   "execution_count": 58,
   "metadata": {
    "code_folding": [],
    "id": "OgjkoGKO-fgq"
   },
   "outputs": [],
   "source": [
    "# get centriods of SYN\n",
    "y_train_few_ = torch.argmax(mnist_y_train_few, dim=1)\n",
    "masks = []\n",
    "cluster_syn = []\n",
    "for k in range(10):\n",
    "    mask = np.zeros_like(y_train_few_, dtype=bool)\n",
    "    for i in range(len(y_train_few_)):\n",
    "        mask[i] = True if y_train_few_[i] == k else False\n",
    "\n",
    "    cluster_x = mnist_x_train_few[mask]\n",
    "    if cluster_x.shape[0] > 1:\n",
    "        centroid = featureExtract_cycda(cluster_x, net.src_net)\n",
    "        centroid = torch.mean(centroid, dim=0)\n",
    "    else:\n",
    "        print('Unnormal Alert!')\n",
    "\n",
    "    masks.append(mask)\n",
    "    cluster_syn.append(centroid)"
   ]
  },
  {
   "cell_type": "markdown",
   "metadata": {
    "id": "1rU-sv3J8Blp"
   },
   "source": [
    "## Target Domain (USPS)"
   ]
  },
  {
   "cell_type": "code",
   "execution_count": null,
   "metadata": {
    "id": "DECREg8c9g-4"
   },
   "outputs": [],
   "source": [
    "usps_x_train, usps_y_train, usps_x_test, usps_y_test = hdf5(usps_dir+\"usps.h5\")"
   ]
  },
  {
   "cell_type": "markdown",
   "metadata": {
    "id": "lsgALP2X8IOz"
   },
   "source": [
    "### Sample Target Unlabeled (Gaussian noise)"
   ]
  },
  {
   "cell_type": "code",
   "execution_count": null,
   "metadata": {
    "id": "MnqVyWN6yYxZ"
   },
   "outputs": [],
   "source": [
    "unlabel_size = 2000\n",
    "target_size = 1000\n",
    "\n",
    "np.random.seed(816)\n",
    "usps_unlabel_idx = np.random.choice(range(len(usps_x_train)), size=unlabel_size, replace=False)\n",
    "\n",
    "usps_x_unlabel, usps_y_unlabel = usps_x_train[usps_unlabel_idx], usps_y_train[usps_unlabel_idx]\n",
    "usps_x_unlabel[:1700] = addGaussianNoise(usps_x_unlabel[:1700], scale=10)\n",
    "\n",
    "usps_x_unlabel_re, usps_y_unlabel_re, usps_x_test_re, usps_y_test_re = usps_encoderProcess(usps_x_unlabel, usps_y_unlabel, usps_x_test, usps_y_test)"
   ]
  },
  {
   "cell_type": "code",
   "execution_count": null,
   "metadata": {
    "id": "JAdR6w6ybaIB"
   },
   "outputs": [],
   "source": [
    "pickle.dump([usps_x_unlabel_re, usps_y_unlabel_re], open(prefix+'/active-learning-transfer/samples/unlabel_sample/mnist2usps2000_noise.data', 'wb'))"
   ]
  },
  {
   "cell_type": "markdown",
   "metadata": {
    "id": "_UrPG_GO_aOy"
   },
   "source": [
    "### DULO"
   ]
  },
  {
   "cell_type": "code",
   "execution_count": null,
   "metadata": {
    "id": "WvzqffDMzRYI"
   },
   "outputs": [],
   "source": [
    "usps_x_unlabel_resNetFeature = featureExtract_cycda(usps_x_unlabel_re, net.tgt_net)\n",
    "usps_x_unlabel_resNetFeature = usps_x_unlabel_resNetFeature.cpu().detach().numpy()"
   ]
  },
  {
   "cell_type": "code",
   "execution_count": null,
   "metadata": {
    "colab": {
     "base_uri": "https://localhost:8080/"
    },
    "id": "4VFifPhG3CmP",
    "outputId": "4021d81a-b949-4656-fbad-47936c522fa9"
   },
   "outputs": [
    {
     "data": {
      "text/plain": [
       "<All keys matched successfully>"
      ]
     },
     "execution_count": 43,
     "metadata": {
      "tags": []
     },
     "output_type": "execute_result"
    }
   ],
   "source": [
    "input_dim = mnist_x_train_few_resNetFeature.shape[1]\n",
    "set_features=256\n",
    "hidden_ext=256\n",
    "hidden_reg=256\n",
    "n_epoch=20\n",
    "batch_size=32\n",
    "lr = 1e-5\n",
    "\n",
    "dset = DeepSet(input_dim, set_features, hidden_ext, hidden_reg)\n",
    "model = Utility_deepset(model=dset)\n",
    "# model.fit(mnist_x_train_few_resNetFeature, (X_feature, y_feature), (X_feature_test, y_feature_test), n_epoch, batch_size, lr) # uncommnet this line for training deepset\n",
    "\n",
    "model_dir = prefix + '/active-learning-transfer/models/cycada/ds/iter_1_28_noise'\n",
    "load_name = model_dir + '/mnist_usps_deepset_train10000_set128.state_dict'\n",
    "model.model.load_state_dict(torch.load(load_name))"
   ]
  },
  {
   "cell_type": "code",
   "execution_count": null,
   "metadata": {
    "id": "xTNKtwtHgIi1"
   },
   "outputs": [],
   "source": [
    "corruption = 'Noisy'"
   ]
  },
  {
   "cell_type": "code",
   "execution_count": null,
   "metadata": {
    "colab": {
     "base_uri": "https://localhost:8080/"
    },
    "id": "HrvLoYh1_bBJ",
    "outputId": "dd212e40-b5c5-44f0-e558-427287dfbc48"
   },
   "outputs": [
    {
     "name": "stdout",
     "output_type": "stream",
     "text": [
      "Sample Size R=18\n"
     ]
    },
    {
     "data": {
      "text/plain": [
       "43.84100604057312"
      ]
     },
     "execution_count": 45,
     "metadata": {
      "tags": []
     },
     "output_type": "execute_result"
    }
   ],
   "source": [
    "import time\n",
    "start = time.time()\n",
    "_, deepset_selected_rank, _ = findMostValuableSample_deepset_stochasticgreedy(model.model, usps_x_unlabel_resNetFeature, target_size, epsilon=1e-4, seed=100)\n",
    "\n",
    "time.time() - start"
   ]
  },
  {
   "cell_type": "code",
   "execution_count": null,
   "metadata": {
    "colab": {
     "base_uri": "https://localhost:8080/"
    },
    "id": "eZfQUBJBRYcC",
    "outputId": "d594cbea-cea7-4166-f603-62441d9ef672"
   },
   "outputs": [
    {
     "name": "stdout",
     "output_type": "stream",
     "text": [
      "[ 100  200  300  400  500  600  700  800  900 1000]\n",
      "[21, 64, 113, 166, 241, 326, 421, 511, 608, 707]\n"
     ]
    }
   ],
   "source": [
    "# check noisy\n",
    "inspect_points = np.linspace(100, target_size, num=10).astype(int)\n",
    "noise_cnt = []\n",
    "for i in inspect_points:\n",
    "  cnt = sum(x < 1700 for x in deepset_selected_rank[:i])\n",
    "  noise_cnt.append(cnt)\n",
    "\n",
    "print(inspect_points)\n",
    "print(noise_cnt)"
   ]
  },
  {
   "cell_type": "markdown",
   "metadata": {
    "id": "mnT4ELdl_ljl"
   },
   "source": [
    "### Baselines"
   ]
  },
  {
   "cell_type": "code",
   "execution_count": null,
   "metadata": {
    "id": "F_fGroyh_lzm"
   },
   "outputs": [],
   "source": [
    "from torch.utils.data import Dataset, DataLoader, TensorDataset\n",
    "\n",
    "\n",
    "class torchLogisticRegression(torch.nn.Module):\n",
    "    def __init__(self, input_dim, output_dim):\n",
    "        super(torchLogisticRegression, self).__init__()\n",
    "        self.flatten = Flatten()\n",
    "        self.linear = torch.nn.Linear(input_dim, output_dim)\n",
    "        torch.nn.init.xavier_uniform(self.linear.weight)\n",
    "        torch.nn.init.zeros_(self.linear.bias)\n",
    "        self.input_dim = input_dim\n",
    "\n",
    "    def forward(self, x, last=False):\n",
    "        outputs = self.linear(x)\n",
    "        if last:\n",
    "            return outputs, x\n",
    "        else:\n",
    "            return outputs\n",
    "\n",
    "    def get_embedding_dim(self):\n",
    "        return self.input_dim\n",
    "\n",
    "\n",
    "def torch_encoder_logistic_data_to_net(x_train, y_train, x_test, y_test, verbose=0):\n",
    "\n",
    "    criterion = torch.nn.CrossEntropyLoss()\n",
    "    net = torchLogisticRegression(x_train.shape[1], 10)\n",
    "    optimizer = torch.optim.Adam(net.parameters(), lr=0.001, eps=1e-7)\n",
    "\n",
    "    tensor_x, tensor_y = torch.Tensor(x_train), torch.Tensor(y_train)\n",
    "    fewshot_dataset = TensorDataset(tensor_x, tensor_y)\n",
    "    train_loader = DataLoader(dataset=fewshot_dataset,\n",
    "                              batch_size=32, shuffle=True)\n",
    "    tensor_x_test, tensor_y_test = torch.Tensor(x_test), torch.Tensor(y_test)\n",
    "    test_dataset = TensorDataset(tensor_x_test, tensor_y_test)\n",
    "    test_loader = DataLoader(dataset=test_dataset,\n",
    "                             batch_size=32, shuffle=False)\n",
    "\n",
    "    for epoch in range(5):\n",
    "        for i, (images, labels) in enumerate(train_loader):\n",
    "            images = Variable(images)\n",
    "            labels = Variable(labels.long())\n",
    "            labels = torch.argmax(labels, dim=1)\n",
    "            optimizer.zero_grad()\n",
    "            outputs = net(images)\n",
    "            loss = criterion(outputs, labels)\n",
    "            loss.backward()\n",
    "            optimizer.step()\n",
    "        correct = 0\n",
    "        total = 0\n",
    "        for images, labels in test_loader:\n",
    "            labels = labels.long()\n",
    "            images = Variable(images)\n",
    "            outputs = net(images)\n",
    "            _, predicted = torch.max(outputs.data, 1)\n",
    "            total += labels.size(0)\n",
    "            labels = torch.argmax(labels, dim=1)\n",
    "            correct += (predicted == labels).sum()\n",
    "        accuracy = 100 * correct/total\n",
    "        if verbose:\n",
    "            print(\"Epoch: {}. Loss: {}. Accuracy: {}.\".format(\n",
    "                epoch, loss.item(), accuracy))\n",
    "    print('Model Accuracy: {}'.format(accuracy))\n",
    "    return net"
   ]
  },
  {
   "cell_type": "code",
   "execution_count": null,
   "metadata": {
    "colab": {
     "base_uri": "https://localhost:8080/"
    },
    "id": "H6Csm-7P_l6b",
    "outputId": "96981d38-6a7c-4bf6-9652-d707f6fbde32"
   },
   "outputs": [
    {
     "name": "stderr",
     "output_type": "stream",
     "text": [
      "/usr/local/lib/python3.7/dist-packages/ipykernel_launcher.py:9: UserWarning: nn.init.xavier_uniform is now deprecated in favor of nn.init.xavier_uniform_.\n",
      "  if __name__ == '__main__':\n",
      "/usr/local/lib/python3.7/dist-packages/distil/utils/similarity_mat.py:112: VisibleDeprecationWarning: Creating an ndarray from ragged nested sequences (which is a list-or-tuple of lists-or-tuples-or ndarrays with different lengths or shapes) is deprecated. If you meant to do this, you must specify 'dtype=object' when creating the ndarray\n",
      "  [list(BatchSampler(SequentialSampler(np.arange(len(y_temp))), self.batch_size, drop_last=False))][0])\n"
     ]
    },
    {
     "name": "stdout",
     "output_type": "stream",
     "text": [
      "Model Accuracy: 98.33333587646484\n"
     ]
    },
    {
     "name": "stderr",
     "output_type": "stream",
     "text": [
      "/usr/local/lib/python3.7/dist-packages/distil/utils/similarity_mat.py:112: VisibleDeprecationWarning: Creating an ndarray from ragged nested sequences (which is a list-or-tuple of lists-or-tuples-or ndarrays with different lengths or shapes) is deprecated. If you meant to do this, you must specify 'dtype=object' when creating the ndarray\n",
      "  [list(BatchSampler(SequentialSampler(np.arange(len(y_temp))), self.batch_size, drop_last=False))][0])\n",
      "/usr/local/lib/python3.7/dist-packages/distil/utils/similarity_mat.py:112: VisibleDeprecationWarning: Creating an ndarray from ragged nested sequences (which is a list-or-tuple of lists-or-tuples-or ndarrays with different lengths or shapes) is deprecated. If you meant to do this, you must specify 'dtype=object' when creating the ndarray\n",
      "  [list(BatchSampler(SequentialSampler(np.arange(len(y_temp))), self.batch_size, drop_last=False))][0])\n",
      "/usr/local/lib/python3.7/dist-packages/distil/utils/similarity_mat.py:112: VisibleDeprecationWarning: Creating an ndarray from ragged nested sequences (which is a list-or-tuple of lists-or-tuples-or ndarrays with different lengths or shapes) is deprecated. If you meant to do this, you must specify 'dtype=object' when creating the ndarray\n",
      "  [list(BatchSampler(SequentialSampler(np.arange(len(y_temp))), self.batch_size, drop_last=False))][0])\n",
      "/usr/local/lib/python3.7/dist-packages/distil/utils/similarity_mat.py:112: VisibleDeprecationWarning: Creating an ndarray from ragged nested sequences (which is a list-or-tuple of lists-or-tuples-or ndarrays with different lengths or shapes) is deprecated. If you meant to do this, you must specify 'dtype=object' when creating the ndarray\n",
      "  [list(BatchSampler(SequentialSampler(np.arange(len(y_temp))), self.batch_size, drop_last=False))][0])\n",
      "/usr/local/lib/python3.7/dist-packages/distil/utils/similarity_mat.py:112: VisibleDeprecationWarning: Creating an ndarray from ragged nested sequences (which is a list-or-tuple of lists-or-tuples-or ndarrays with different lengths or shapes) is deprecated. If you meant to do this, you must specify 'dtype=object' when creating the ndarray\n",
      "  [list(BatchSampler(SequentialSampler(np.arange(len(y_temp))), self.batch_size, drop_last=False))][0])\n",
      "/usr/local/lib/python3.7/dist-packages/distil/utils/similarity_mat.py:112: VisibleDeprecationWarning: Creating an ndarray from ragged nested sequences (which is a list-or-tuple of lists-or-tuples-or ndarrays with different lengths or shapes) is deprecated. If you meant to do this, you must specify 'dtype=object' when creating the ndarray\n",
      "  [list(BatchSampler(SequentialSampler(np.arange(len(y_temp))), self.batch_size, drop_last=False))][0])\n",
      "/usr/local/lib/python3.7/dist-packages/distil/utils/similarity_mat.py:112: VisibleDeprecationWarning: Creating an ndarray from ragged nested sequences (which is a list-or-tuple of lists-or-tuples-or ndarrays with different lengths or shapes) is deprecated. If you meant to do this, you must specify 'dtype=object' when creating the ndarray\n",
      "  [list(BatchSampler(SequentialSampler(np.arange(len(y_temp))), self.batch_size, drop_last=False))][0])\n",
      "/usr/local/lib/python3.7/dist-packages/distil/utils/similarity_mat.py:112: VisibleDeprecationWarning: Creating an ndarray from ragged nested sequences (which is a list-or-tuple of lists-or-tuples-or ndarrays with different lengths or shapes) is deprecated. If you meant to do this, you must specify 'dtype=object' when creating the ndarray\n",
      "  [list(BatchSampler(SequentialSampler(np.arange(len(y_temp))), self.batch_size, drop_last=False))][0])\n",
      "/usr/local/lib/python3.7/dist-packages/distil/utils/similarity_mat.py:112: VisibleDeprecationWarning: Creating an ndarray from ragged nested sequences (which is a list-or-tuple of lists-or-tuples-or ndarrays with different lengths or shapes) is deprecated. If you meant to do this, you must specify 'dtype=object' when creating the ndarray\n",
      "  [list(BatchSampler(SequentialSampler(np.arange(len(y_temp))), self.batch_size, drop_last=False))][0])\n"
     ]
    }
   ],
   "source": [
    "from distil.utils.data_handler import DataHandler_Points\n",
    "from distil.active_learning_strategies import glister, FASS, BADGE\n",
    "\n",
    "net_al = torch_encoder_logistic_data_to_net(mnist_x_train_few_resNetFeature, y_train_few, mnist_x_val_few_resNetFeature, y_val_few)\n",
    "\n",
    "strategy_args = {'batch_size':target_size, 'submod':'facility_location', 'selection_type':'PerClass'}\n",
    "strategy = FASS(mnist_x_train_few_resNetFeature, mnist_y_train_few, usps_x_unlabel_resNetFeature, net_al.cuda(), DataHandler_Points, 10, strategy_args)\n",
    "fass_selected_rank = strategy.select(target_size)\n",
    "\n",
    "strategy_args = {'batch_size' : target_size}\n",
    "strategy = BADGE(mnist_x_train_few_resNetFeature, mnist_y_train_few, usps_x_unlabel_resNetFeature, net_al.cuda(), DataHandler_Points, 10, strategy_args)\n",
    "badge_selected_rank = strategy.select(target_size)\n",
    "\n",
    "strategy_args = {'batch_size' : target_size, 'lr':float(0.001)}\n",
    "strategy = glister.GLISTER(mnist_x_train_few_resNetFeature, np.argmax(y_train_few, axis=1), usps_x_unlabel_resNetFeature, net_al.cuda(), DataHandler_Points, 10, strategy_args, \n",
    "                           valid=True, X_val=mnist_x_val_few_resNetFeature, Y_val=np.argmax(y_val_few, axis=1))\n",
    "glister_selected_rank = strategy.select(target_size)"
   ]
  },
  {
   "cell_type": "markdown",
   "metadata": {
    "id": "ZUfm83cW_tQN"
   },
   "source": [
    "### Optimal"
   ]
  },
  {
   "cell_type": "code",
   "execution_count": null,
   "metadata": {
    "colab": {
     "base_uri": "https://localhost:8080/"
    },
    "id": "mMPqEevWsxik",
    "outputId": "556a340f-f8c6-4c09-9940-cafef9e5a59b"
   },
   "outputs": [
    {
     "data": {
      "text/plain": [
       "<All keys matched successfully>"
      ]
     },
     "execution_count": 48,
     "metadata": {
      "tags": []
     },
     "output_type": "execute_result"
    }
   ],
   "source": [
    "input_dim = usps_x_unlabel_resNetFeature.shape[1]\n",
    "set_features=128\n",
    "hidden_ext=128\n",
    "hidden_reg=128\n",
    "n_epoch=50\n",
    "batch_size=32\n",
    "lr = 1e-4\n",
    "\n",
    "model_optimal_usps = Utility_deepset(model=DeepSet(input_dim, set_features, hidden_ext, hidden_reg))\n",
    "model_optimal_usps.model.load_state_dict(torch.load(prefix + 'active-learning-transfer/models/usps_optimal' + '/usps_optimal_new.state_dict'))"
   ]
  },
  {
   "cell_type": "code",
   "execution_count": null,
   "metadata": {
    "colab": {
     "base_uri": "https://localhost:8080/"
    },
    "id": "awqfbITouAX6",
    "outputId": "b6ab1426-7330-4000-984e-4d3b5e444533"
   },
   "outputs": [
    {
     "name": "stdout",
     "output_type": "stream",
     "text": [
      "Sample Size R=18\n",
      "707\n"
     ]
    }
   ],
   "source": [
    "_, optimal_dulo_selected_rank, _ = findMostValuableSample_deepset_stochasticgreedy(model_optimal_usps.model, usps_x_unlabel_resNetFeature, target_size, epsilon=1e-4, seed=101)\n",
    "\n",
    "print(sum(np.array(optimal_dulo_selected_rank) < 1700))"
   ]
  },
  {
   "cell_type": "markdown",
   "metadata": {
    "id": "8Z1WxVEuAKg-"
   },
   "source": [
    "### Save Ranks"
   ]
  },
  {
   "cell_type": "code",
   "execution_count": null,
   "metadata": {
    "colab": {
     "base_uri": "https://localhost:8080/"
    },
    "id": "tknlHBISAMmZ",
    "outputId": "cbe5c861-34a7-451b-a121-987f36f62aac"
   },
   "outputs": [
    {
     "name": "stdout",
     "output_type": "stream",
     "text": [
      "/content/gdrive/My Drive//active-learning-transfer/models/cycada/ds/iter_1_28_noise\n"
     ]
    }
   ],
   "source": [
    "rank_dict = {}\n",
    "random_perm = np.random.permutation(range(unlabel_size))\n",
    "\n",
    "\n",
    "rank_dict['dulo'] = deepset_selected_rank\n",
    "rank_dict['random'] = random_perm\n",
    "rank_dict['optimal'] = optimal_dulo_selected_rank\n",
    "rank_dict['fass'] = fass_selected_rank\n",
    "rank_dict['badge'] = badge_selected_rank\n",
    "rank_dict['glister'] = glister_selected_rank\n",
    "\n",
    "print(model_dir)"
   ]
  },
  {
   "cell_type": "code",
   "execution_count": null,
   "metadata": {
    "id": "pFvHO56cAVmw"
   },
   "outputs": [],
   "source": [
    "corruption = 'Noisy'\n",
    "pickle.dump(rank_dict, open(model_dir+\"/mnist2usps_rank_dict_{}.pkl\".format(corruption),\"wb\"))"
   ]
  },
  {
   "cell_type": "markdown",
   "metadata": {
    "id": "GtN6s-w__47V"
   },
   "source": [
    "## Run"
   ]
  },
  {
   "cell_type": "code",
   "execution_count": null,
   "metadata": {
    "id": "Po5tHwZA_l_5"
   },
   "outputs": [],
   "source": [
    "acc_greedy = []\n",
    "acc_random = []\n",
    "acc_optimal = []\n",
    "acc_fass = []\n",
    "acc_badge = []\n",
    "acc_glister = []\n",
    "\n",
    "inspect_points = np.linspace(1, target_size, num=10).astype(int)\n",
    "\n",
    "random_perm = rank_dict['random']\n",
    "\n",
    "for i in inspect_points:\n",
    "    acc_greedy.append(usps_svm_data_to_acc(usps_x_unlabel[deepset_selected_rank[:i]], usps_y_unlabel[deepset_selected_rank[:i]], usps_x_test, usps_y_test))\n",
    "    acc_random.append(usps_svm_data_to_acc(usps_x_unlabel[random_perm[:i]], usps_y_unlabel[random_perm[:i]], usps_x_test, usps_y_test))\n",
    "    acc_optimal.append(usps_svm_data_to_acc(usps_x_unlabel[optimal_dulo_selected_rank[:i]], usps_y_unlabel[optimal_dulo_selected_rank[:i]], usps_x_test, usps_y_test))\n",
    "\n",
    "    acc_fass.append(usps_svm_data_to_acc(usps_x_unlabel[fass_selected_rank[:i]], usps_y_unlabel[fass_selected_rank[:i]], usps_x_test, usps_y_test))\n",
    "    acc_badge.append(usps_svm_data_to_acc(usps_x_unlabel[badge_selected_rank[:i]], usps_y_unlabel[badge_selected_rank[:i]], usps_x_test, usps_y_test))\n",
    "    acc_glister.append(usps_svm_data_to_acc(usps_x_unlabel[glister_selected_rank[:i]], usps_y_unlabel[glister_selected_rank[:i]], usps_x_test, usps_y_test))"
   ]
  },
  {
   "cell_type": "code",
   "execution_count": null,
   "metadata": {
    "colab": {
     "base_uri": "https://localhost:8080/",
     "height": 295
    },
    "id": "mShuNbUzAFza",
    "outputId": "38702401-7a18-48af-8ec9-d8dabb669886"
   },
   "outputs": [
    {
     "data": {
      "image/png": "[encoded data removed]",
      "text/plain": [
       "<Figure size 432x288 with 1 Axes>"
      ]
     },
     "metadata": {
      "needs_background": "light",
      "tags": []
     },
     "output_type": "display_data"
    }
   ],
   "source": [
    "plt.figure()\n",
    "\n",
    "plt.plot(inspect_points, acc_greedy, label='DULO')\n",
    "plt.plot(inspect_points, acc_random, label='Random')\n",
    "plt.plot(inspect_points, acc_optimal, label='Optimal DULO')\n",
    "plt.plot(inspect_points, acc_fass, label='FASS')\n",
    "plt.plot(inspect_points, acc_badge, label='BADGE')\n",
    "plt.plot(inspect_points, acc_glister, label='Glister')\n",
    "\n",
    "plt.title('Data Selection, SVM,' + corruption)\n",
    "plt.ylabel('Classifier Accuracy')\n",
    "plt.xlabel('# Selected Data Points')\n",
    "plt.legend()\n",
    "plt.show()"
   ]
  },
  {
   "cell_type": "markdown",
   "metadata": {
    "id": "IQd4VIwvAdTr"
   },
   "source": [
    "## Run (finetune)"
   ]
  },
  {
   "cell_type": "code",
   "execution_count": null,
   "metadata": {
    "colab": {
     "base_uri": "https://localhost:8080/"
    },
    "id": "xhlsggWpAdvY",
    "outputId": "90b2d3b1-7a25-40ab-9721-8e6328d9c568"
   },
   "outputs": [
    {
     "name": "stdout",
     "output_type": "stream",
     "text": [
      "DA Model Accuracy: 0.8151470422744751\n"
     ]
    }
   ],
   "source": [
    "def get_da_acc(net, x_test, y_test):\n",
    "\n",
    "    net.eval()\n",
    "\n",
    "    test_dataset = TensorDataset(x_test, y_test)\n",
    "    test_loader = DataLoader(dataset=test_dataset,\n",
    "                             batch_size=32, shuffle=False)\n",
    "\n",
    "    correct = 0\n",
    "    total = 0\n",
    "    for images, labels in test_loader:\n",
    "        images = Variable(images.cuda(), requires_grad=False)\n",
    "        labels = Variable(labels.cuda(), requires_grad=False)\n",
    "        score = net(images)\n",
    "        pred = score.data.max(1)[1]  # get the index of the max log-probability\n",
    "        correct += pred.eq(labels.data).cpu().sum()\n",
    "        total += labels.size(0)\n",
    "\n",
    "    accuracy = 100.0 * correct/total\n",
    "\n",
    "    return accuracy / 100\n",
    "\n",
    "\n",
    "model_dir = prefix + '/active-learning-transfer/models/cycada/ds/iter_1_28_noise'\n",
    "adda_net_file = model_dir + '/adda_LeNet_net_mnist_usps.pth'\n",
    "net = get_model('AddaNet', num_cls=10, weights_init=adda_net_file,\n",
    "                model='LeNet')\n",
    "da_acc = get_da_acc(net.tgt_net, usps_x_test_re, usps_y_test_re)\n",
    "print('DA Model Accuracy: {}'.format(da_acc))"
   ]
  },
  {
   "cell_type": "code",
   "execution_count": 59,
   "metadata": {
    "id": "_iW6gHXlAdy_"
   },
   "outputs": [],
   "source": [
    "from scipy.stats import wasserstein_distance\n",
    "\n",
    "\n",
    "def get_label(centroids, feat):\n",
    "    best_dist = 1e9\n",
    "    for k in range(len(centroids)):\n",
    "        dist = wasserstein_distance(\n",
    "            centroids[k].detach().cpu(), feat.detach().cpu())\n",
    "        if dist < best_dist:\n",
    "            best_dist = dist\n",
    "            pred_label = k\n",
    "\n",
    "    return pred_label\n",
    "\n",
    "\n",
    "def data_to_acc_finetune_new(adda_net_file, x_train, y_train, x_test, y_test, x_unlabel, verbose=0, lr=2e-6):\n",
    "    net = get_model('AddaNet', num_cls=10, weights_init=adda_net_file,\n",
    "                    model='LeNet')\n",
    "    net = net.tgt_net\n",
    "    model_name = net.name\n",
    "    # print(\"Target model:\", model_name)\n",
    "    # print(\"============================\")\n",
    "    net.train()\n",
    "\n",
    "    net.conv_params[0].weight.trainable = False\n",
    "    net.conv_params[0].bias.trainable = False\n",
    "    if model_name == 'LeNet':\n",
    "        net.conv_params[3].weight.trainable = False\n",
    "        net.conv_params[3].bias.trainable = False\n",
    "        net.fc_params.weight.trainable = False\n",
    "        net.fc_params.bias.trainable = False\n",
    "    elif model_name == 'DTN':\n",
    "        net.conv_params[4].weight.trainable = False\n",
    "        net.conv_params[4].bias.trainable = False\n",
    "        net.conv_params[8].weight.trainable = False\n",
    "        net.conv_params[8].bias.trainable = False\n",
    "        net.fc_params[0].weight.trainable = False\n",
    "        net.fc_params[0].bias.trainable = False\n",
    "    optimizer = optim.Adam(net.parameters(), lr=lr,\n",
    "                           betas=(0.9, 0.999), weight_decay=0)\n",
    "    criterion = nn.CrossEntropyLoss()\n",
    "\n",
    "    # get centriods for K classes\n",
    "    masks = []\n",
    "    centroids = []\n",
    "    for k in range(10):\n",
    "        mask = np.zeros_like(y_train, dtype=bool)\n",
    "        for i in range(len(y_train)):\n",
    "            mask[i] = True if y_train[i] == k else False\n",
    "\n",
    "        cluster_x = x_train[mask]\n",
    "        if cluster_x.shape[0] > 1:\n",
    "            _, centroid = net(cluster_x.cuda(), with_ft=True)\n",
    "            centroid = torch.mean(centroid, dim=0)\n",
    "        else:\n",
    "            centroid = cluster_syn[k]\n",
    "        masks.append(mask)\n",
    "        centroids.append(centroid)\n",
    "\n",
    "    # predict fake labels for unlabel data\n",
    "    y_unlabel = []\n",
    "    _, x_unlabel_feat = net(x_unlabel.cuda(), with_ft=True)\n",
    "    for i in range(x_unlabel.size(0)):\n",
    "        y_unlabel.append(get_label(centroids, x_unlabel_feat[i]))\n",
    "\n",
    "    y_unlabel = torch.tensor(y_unlabel)\n",
    "\n",
    "    x_train_new = torch.cat((x_train, x_unlabel), dim=0)\n",
    "    y_train_new = torch.cat((y_train, y_unlabel), dim=0)\n",
    "\n",
    "    finetune_dataset = TensorDataset(x_train_new, y_train_new)\n",
    "    train_loader = DataLoader(dataset=finetune_dataset,\n",
    "                              batch_size=32, shuffle=True)\n",
    "    test_dataset = TensorDataset(x_test, y_test)\n",
    "    test_loader = DataLoader(dataset=test_dataset,\n",
    "                             batch_size=32, shuffle=False)\n",
    "\n",
    "    best_acc = 0\n",
    "    for epoch in range(35):\n",
    "        net.train()\n",
    "        for i, (images, labels) in enumerate(train_loader):\n",
    "            images = Variable(images.cuda(), requires_grad=False)\n",
    "            labels = Variable(labels.cuda(), requires_grad=False)\n",
    "            optimizer.zero_grad()\n",
    "            # import pdb;pdb.set_trace()\n",
    "            score = net(images)\n",
    "            loss = criterion(score, labels)\n",
    "            loss.backward()\n",
    "            optimizer.step()\n",
    "        correct = 0\n",
    "        total = 0\n",
    "        test_acc = get_da_acc(net, x_test, y_test)\n",
    "\n",
    "        if verbose:\n",
    "            print(\"Epoch: {}. Loss: {}. Accuracy: {}.\".format(\n",
    "                epoch, loss.item(), test_acc*100.0))\n",
    "\n",
    "        if test_acc > best_acc:\n",
    "            best_acc = test_acc\n",
    "        else:\n",
    "            break\n",
    "    print('Model Accuracy: {}'.format(best_acc*100.0))\n",
    "\n",
    "    return best_acc"
   ]
  },
  {
   "cell_type": "code",
   "execution_count": null,
   "metadata": {
    "id": "kli30DF8kjzP"
   },
   "outputs": [],
   "source": [
    "def check_selection_unnormal(set_selected):\n",
    "  # input is torch tensor\n",
    "  for i in range(10):\n",
    "    if i in set_selected:\n",
    "      continue\n",
    "    else:\n",
    "      return True\n",
    "  return False"
   ]
  },
  {
   "cell_type": "code",
   "execution_count": 62,
   "metadata": {
    "colab": {
     "base_uri": "https://localhost:8080/"
    },
    "id": "6V_iOn8HAd2h",
    "outputId": "650953ae-bdeb-4000-a497-5f8cd4a50731"
   },
   "outputs": [
    {
     "name": "stdout",
     "output_type": "stream",
     "text": [
      "100\n",
      "Unnormal Alert!\n",
      "Model Accuracy: 82.06278228759766\n",
      "Model Accuracy: 81.56452178955078\n",
      "Model Accuracy: 85.89935302734375\n",
      "Unnormal Alert!\n",
      "Unnormal Alert!\n",
      "Unnormal Alert!\n",
      "Unnormal Alert!\n",
      "Model Accuracy: 81.56452178955078\n",
      "Model Accuracy: 81.66417694091797\n",
      "Model Accuracy: 81.61434936523438\n",
      "200\n",
      "Model Accuracy: 86.89586639404297\n",
      "Model Accuracy: 81.56452178955078\n",
      "Model Accuracy: 85.60039520263672\n",
      "Model Accuracy: 81.56452178955078\n",
      "Model Accuracy: 83.05929565429688\n",
      "Model Accuracy: 82.85999298095703\n",
      "300\n",
      "Model Accuracy: 83.35824584960938\n",
      "Model Accuracy: 81.71400451660156\n",
      "Model Accuracy: 84.55406188964844\n",
      "Model Accuracy: 81.56452178955078\n",
      "Model Accuracy: 81.66417694091797\n",
      "Model Accuracy: 82.71051025390625\n",
      "400\n",
      "Model Accuracy: 84.70353698730469\n",
      "Model Accuracy: 81.56452178955078\n",
      "Model Accuracy: 86.24813079833984\n",
      "Model Accuracy: 81.56452178955078\n",
      "Model Accuracy: 82.71051025390625\n",
      "Model Accuracy: 82.81016540527344\n",
      "500\n",
      "Model Accuracy: 84.6537094116211\n",
      "Model Accuracy: 81.71400451660156\n",
      "Model Accuracy: 84.20528411865234\n",
      "Model Accuracy: 81.61434936523438\n",
      "Model Accuracy: 82.01295471191406\n",
      "Model Accuracy: 81.71400451660156\n",
      "600\n",
      "Model Accuracy: 86.3976058959961\n",
      "Model Accuracy: 81.86347961425781\n",
      "Model Accuracy: 87.4439468383789\n",
      "Model Accuracy: 81.61434936523438\n",
      "Model Accuracy: 82.66069030761719\n",
      "Model Accuracy: 81.86347961425781\n",
      "700\n",
      "Model Accuracy: 84.05580139160156\n",
      "Model Accuracy: 81.56452178955078\n",
      "Model Accuracy: 86.3976058959961\n",
      "Model Accuracy: 81.61434936523438\n",
      "Model Accuracy: 82.01295471191406\n",
      "Model Accuracy: 81.71400451660156\n",
      "800\n",
      "Model Accuracy: 85.84952545166016\n",
      "Model Accuracy: 81.61434936523438\n",
      "Model Accuracy: 83.90632629394531\n",
      "Model Accuracy: 81.81365203857422\n",
      "Model Accuracy: 81.66417694091797\n",
      "Model Accuracy: 81.71400451660156\n",
      "900\n",
      "Model Accuracy: 82.01295471191406\n",
      "Model Accuracy: 81.61434936523438\n",
      "Model Accuracy: 81.86347961425781\n",
      "Model Accuracy: 81.71400451660156\n",
      "Model Accuracy: 81.81365203857422\n",
      "Model Accuracy: 81.51470184326172\n",
      "1000\n",
      "Model Accuracy: 81.86347961425781\n",
      "Model Accuracy: 81.66417694091797\n",
      "Model Accuracy: 81.86347961425781\n",
      "Model Accuracy: 81.81365203857422\n",
      "Model Accuracy: 81.81365203857422\n",
      "Model Accuracy: 81.71400451660156\n"
     ]
    }
   ],
   "source": [
    "adda_file = model_dir + '/adda_LeNet_net_mnist_usps.pth'\n",
    "\n",
    "acc_greedy_ft = [da_acc]\n",
    "acc_random_ft = [da_acc]\n",
    "acc_optimal_ft = [da_acc]\n",
    "acc_fass_ft = [da_acc]\n",
    "acc_badge_ft = [da_acc]\n",
    "acc_glister_ft = [da_acc]\n",
    "acc_ds = [da_acc]\n",
    "\n",
    "inspect_points = np.linspace(100, 1000, num=10).astype(int)\n",
    "\n",
    "random_perm = rank_dict['random']\n",
    "\n",
    "for i in inspect_points:\n",
    "    acc_ds.append(da_acc)\n",
    "    idx_unlabel = np.ones_like(usps_y_unlabel_re, dtype=bool)\n",
    "    idx_unlabel[deepset_selected_rank[:i]] = False\n",
    "    print(i)\n",
    "    acc_greedy_ft.append(data_to_acc_finetune_new(adda_file, usps_x_unlabel_re[deepset_selected_rank[:i]], usps_y_unlabel_re[\n",
    "                         deepset_selected_rank[:i]], usps_x_test_re, usps_y_test_re, usps_x_unlabel_re[idx_unlabel], lr=5e-6))\n",
    "    # import pdb;pdb.set_trace()\n",
    "\n",
    "    idx_unlabel = np.ones_like(usps_y_unlabel_re, dtype=bool)\n",
    "    idx_unlabel[random_perm[:i]] = False\n",
    "    acc_random_ft.append(data_to_acc_finetune_new(\n",
    "        adda_file, usps_x_unlabel_re[random_perm[:i]], usps_y_unlabel_re[random_perm[:i]], usps_x_test_re, usps_y_test_re, usps_x_unlabel_re[idx_unlabel]))\n",
    "\n",
    "    idx_unlabel = np.ones_like(usps_y_unlabel_re, dtype=bool)\n",
    "    idx_unlabel[optimal_dulo_selected_rank[:i]] = False\n",
    "    acc_optimal_ft.append(data_to_acc_finetune_new(adda_file, usps_x_unlabel_re[optimal_dulo_selected_rank[:i]], usps_y_unlabel_re[\n",
    "                          optimal_dulo_selected_rank[:i]], usps_x_test_re, usps_y_test_re, usps_x_unlabel_re[idx_unlabel], lr=5e-6))\n",
    "\n",
    "    idx_unlabel = np.ones_like(usps_y_unlabel_re, dtype=bool)\n",
    "    idx_unlabel[fass_selected_rank[:i]] = False\n",
    "    acc_fass_ft.append(data_to_acc_finetune_new(adda_file, usps_x_unlabel_re[fass_selected_rank[:i]], usps_y_unlabel_re[\n",
    "                       fass_selected_rank[:i]], usps_x_test_re, usps_y_test_re, usps_x_unlabel_re[idx_unlabel], lr=2e-6))\n",
    "\n",
    "    idx_unlabel = np.ones_like(usps_y_unlabel_re, dtype=bool)\n",
    "    idx_unlabel[badge_selected_rank[:i]] = False\n",
    "    acc_badge_ft.append(data_to_acc_finetune_new(adda_file, usps_x_unlabel_re[badge_selected_rank[:i]], usps_y_unlabel_re[\n",
    "                        badge_selected_rank[:i]], usps_x_test_re, usps_y_test_re, usps_x_unlabel_re[idx_unlabel], lr=2e-6))\n",
    "\n",
    "    idx_unlabel = np.ones_like(usps_y_unlabel_re, dtype=bool)\n",
    "    idx_unlabel[glister_selected_rank[:i]] = False\n",
    "    acc_glister_ft.append(data_to_acc_finetune_new(adda_file, usps_x_unlabel_re[glister_selected_rank[:i]], usps_y_unlabel_re[\n",
    "                          glister_selected_rank[:i]], usps_x_test_re, usps_y_test_re, usps_x_unlabel_re[idx_unlabel], lr=2e-6))"
   ]
  },
  {
   "cell_type": "markdown",
   "metadata": {
    "id": "qQ5b2ylwENLn"
   },
   "source": [
    "## Plot"
   ]
  },
  {
   "cell_type": "code",
   "execution_count": 63,
   "metadata": {
    "colab": {
     "base_uri": "https://localhost:8080/",
     "height": 295
    },
    "id": "KmUSCJTwErgg",
    "outputId": "f0d6e2c5-f766-4ae2-f3e0-04a32a9eef44"
   },
   "outputs": [
    {
     "data": {
      "image/png": "[encoded data removed]",
      "text/plain": [
       "<Figure size 432x288 with 1 Axes>"
      ]
     },
     "metadata": {
      "needs_background": "light",
      "tags": []
     },
     "output_type": "display_data"
    }
   ],
   "source": [
    "inspect_points = np.linspace(0, target_size, num=11).astype(int)\n",
    "plt.figure()\n",
    "plt.plot(inspect_points, acc_greedy_ft, label='DULO')\n",
    "plt.plot(inspect_points, acc_random_ft, label='Random')\n",
    "plt.plot(inspect_points, acc_optimal_ft, label='Optimal DULO')\n",
    "plt.plot(inspect_points, acc_fass_ft, label='FASS')\n",
    "plt.plot(inspect_points, acc_badge_ft, label='BADGE')\n",
    "plt.plot(inspect_points, acc_glister_ft, label='Glister')\n",
    "plt.plot(inspect_points, acc_ds, label='Domain Adaptation')\n",
    "\n",
    "plt.title('Data Selection, Finetune, '+corruption)\n",
    "plt.ylabel('Classifier Accuracy')\n",
    "plt.xlabel('# Selected Data Points')\n",
    "plt.legend()\n",
    "plt.show()"
   ]
  },
  {
   "cell_type": "markdown",
   "metadata": {
    "id": "JZ7KbYYfE__U"
   },
   "source": [
    "## Multi seed"
   ]
  },
  {
   "cell_type": "code",
   "execution_count": 65,
   "metadata": {
    "colab": {
     "base_uri": "https://localhost:8080/"
    },
    "id": "LWMueYHnFBCw",
    "outputId": "4c1054b8-56fe-4a40-9f28-d0f01639ca03"
   },
   "outputs": [
    {
     "name": "stderr",
     "output_type": "stream",
     "text": [
      "/usr/local/lib/python3.7/dist-packages/ipykernel_launcher.py:9: UserWarning: nn.init.xavier_uniform is now deprecated in favor of nn.init.xavier_uniform_.\n",
      "  if __name__ == '__main__':\n"
     ]
    },
    {
     "name": "stdout",
     "output_type": "stream",
     "text": [
      "Model Accuracy: 97.66666412353516\n",
      "Sample Size R=18\n",
      "Sample Size R=18\n"
     ]
    },
    {
     "name": "stderr",
     "output_type": "stream",
     "text": [
      "/usr/local/lib/python3.7/dist-packages/distil/utils/similarity_mat.py:112: VisibleDeprecationWarning: Creating an ndarray from ragged nested sequences (which is a list-or-tuple of lists-or-tuples-or ndarrays with different lengths or shapes) is deprecated. If you meant to do this, you must specify 'dtype=object' when creating the ndarray\n",
      "  [list(BatchSampler(SequentialSampler(np.arange(len(y_temp))), self.batch_size, drop_last=False))][0])\n",
      "/usr/local/lib/python3.7/dist-packages/distil/utils/similarity_mat.py:112: VisibleDeprecationWarning: Creating an ndarray from ragged nested sequences (which is a list-or-tuple of lists-or-tuples-or ndarrays with different lengths or shapes) is deprecated. If you meant to do this, you must specify 'dtype=object' when creating the ndarray\n",
      "  [list(BatchSampler(SequentialSampler(np.arange(len(y_temp))), self.batch_size, drop_last=False))][0])\n",
      "/usr/local/lib/python3.7/dist-packages/distil/utils/similarity_mat.py:112: VisibleDeprecationWarning: Creating an ndarray from ragged nested sequences (which is a list-or-tuple of lists-or-tuples-or ndarrays with different lengths or shapes) is deprecated. If you meant to do this, you must specify 'dtype=object' when creating the ndarray\n",
      "  [list(BatchSampler(SequentialSampler(np.arange(len(y_temp))), self.batch_size, drop_last=False))][0])\n",
      "/usr/local/lib/python3.7/dist-packages/distil/utils/similarity_mat.py:112: VisibleDeprecationWarning: Creating an ndarray from ragged nested sequences (which is a list-or-tuple of lists-or-tuples-or ndarrays with different lengths or shapes) is deprecated. If you meant to do this, you must specify 'dtype=object' when creating the ndarray\n",
      "  [list(BatchSampler(SequentialSampler(np.arange(len(y_temp))), self.batch_size, drop_last=False))][0])\n",
      "/usr/local/lib/python3.7/dist-packages/distil/utils/similarity_mat.py:112: VisibleDeprecationWarning: Creating an ndarray from ragged nested sequences (which is a list-or-tuple of lists-or-tuples-or ndarrays with different lengths or shapes) is deprecated. If you meant to do this, you must specify 'dtype=object' when creating the ndarray\n",
      "  [list(BatchSampler(SequentialSampler(np.arange(len(y_temp))), self.batch_size, drop_last=False))][0])\n",
      "/usr/local/lib/python3.7/dist-packages/distil/utils/similarity_mat.py:112: VisibleDeprecationWarning: Creating an ndarray from ragged nested sequences (which is a list-or-tuple of lists-or-tuples-or ndarrays with different lengths or shapes) is deprecated. If you meant to do this, you must specify 'dtype=object' when creating the ndarray\n",
      "  [list(BatchSampler(SequentialSampler(np.arange(len(y_temp))), self.batch_size, drop_last=False))][0])\n",
      "/usr/local/lib/python3.7/dist-packages/distil/utils/similarity_mat.py:112: VisibleDeprecationWarning: Creating an ndarray from ragged nested sequences (which is a list-or-tuple of lists-or-tuples-or ndarrays with different lengths or shapes) is deprecated. If you meant to do this, you must specify 'dtype=object' when creating the ndarray\n",
      "  [list(BatchSampler(SequentialSampler(np.arange(len(y_temp))), self.batch_size, drop_last=False))][0])\n",
      "/usr/local/lib/python3.7/dist-packages/distil/utils/similarity_mat.py:112: VisibleDeprecationWarning: Creating an ndarray from ragged nested sequences (which is a list-or-tuple of lists-or-tuples-or ndarrays with different lengths or shapes) is deprecated. If you meant to do this, you must specify 'dtype=object' when creating the ndarray\n",
      "  [list(BatchSampler(SequentialSampler(np.arange(len(y_temp))), self.batch_size, drop_last=False))][0])\n",
      "/usr/local/lib/python3.7/dist-packages/distil/utils/similarity_mat.py:112: VisibleDeprecationWarning: Creating an ndarray from ragged nested sequences (which is a list-or-tuple of lists-or-tuples-or ndarrays with different lengths or shapes) is deprecated. If you meant to do this, you must specify 'dtype=object' when creating the ndarray\n",
      "  [list(BatchSampler(SequentialSampler(np.arange(len(y_temp))), self.batch_size, drop_last=False))][0])\n"
     ]
    },
    {
     "name": "stdout",
     "output_type": "stream",
     "text": [
      "Sample Size R=18\n",
      "Sample Size R=18\n"
     ]
    },
    {
     "name": "stderr",
     "output_type": "stream",
     "text": [
      "/usr/local/lib/python3.7/dist-packages/distil/utils/similarity_mat.py:112: VisibleDeprecationWarning: Creating an ndarray from ragged nested sequences (which is a list-or-tuple of lists-or-tuples-or ndarrays with different lengths or shapes) is deprecated. If you meant to do this, you must specify 'dtype=object' when creating the ndarray\n",
      "  [list(BatchSampler(SequentialSampler(np.arange(len(y_temp))), self.batch_size, drop_last=False))][0])\n",
      "/usr/local/lib/python3.7/dist-packages/distil/utils/similarity_mat.py:112: VisibleDeprecationWarning: Creating an ndarray from ragged nested sequences (which is a list-or-tuple of lists-or-tuples-or ndarrays with different lengths or shapes) is deprecated. If you meant to do this, you must specify 'dtype=object' when creating the ndarray\n",
      "  [list(BatchSampler(SequentialSampler(np.arange(len(y_temp))), self.batch_size, drop_last=False))][0])\n",
      "/usr/local/lib/python3.7/dist-packages/distil/utils/similarity_mat.py:112: VisibleDeprecationWarning: Creating an ndarray from ragged nested sequences (which is a list-or-tuple of lists-or-tuples-or ndarrays with different lengths or shapes) is deprecated. If you meant to do this, you must specify 'dtype=object' when creating the ndarray\n",
      "  [list(BatchSampler(SequentialSampler(np.arange(len(y_temp))), self.batch_size, drop_last=False))][0])\n",
      "/usr/local/lib/python3.7/dist-packages/distil/utils/similarity_mat.py:112: VisibleDeprecationWarning: Creating an ndarray from ragged nested sequences (which is a list-or-tuple of lists-or-tuples-or ndarrays with different lengths or shapes) is deprecated. If you meant to do this, you must specify 'dtype=object' when creating the ndarray\n",
      "  [list(BatchSampler(SequentialSampler(np.arange(len(y_temp))), self.batch_size, drop_last=False))][0])\n",
      "/usr/local/lib/python3.7/dist-packages/distil/utils/similarity_mat.py:112: VisibleDeprecationWarning: Creating an ndarray from ragged nested sequences (which is a list-or-tuple of lists-or-tuples-or ndarrays with different lengths or shapes) is deprecated. If you meant to do this, you must specify 'dtype=object' when creating the ndarray\n",
      "  [list(BatchSampler(SequentialSampler(np.arange(len(y_temp))), self.batch_size, drop_last=False))][0])\n",
      "/usr/local/lib/python3.7/dist-packages/distil/utils/similarity_mat.py:112: VisibleDeprecationWarning: Creating an ndarray from ragged nested sequences (which is a list-or-tuple of lists-or-tuples-or ndarrays with different lengths or shapes) is deprecated. If you meant to do this, you must specify 'dtype=object' when creating the ndarray\n",
      "  [list(BatchSampler(SequentialSampler(np.arange(len(y_temp))), self.batch_size, drop_last=False))][0])\n",
      "/usr/local/lib/python3.7/dist-packages/distil/utils/similarity_mat.py:112: VisibleDeprecationWarning: Creating an ndarray from ragged nested sequences (which is a list-or-tuple of lists-or-tuples-or ndarrays with different lengths or shapes) is deprecated. If you meant to do this, you must specify 'dtype=object' when creating the ndarray\n",
      "  [list(BatchSampler(SequentialSampler(np.arange(len(y_temp))), self.batch_size, drop_last=False))][0])\n",
      "/usr/local/lib/python3.7/dist-packages/distil/utils/similarity_mat.py:112: VisibleDeprecationWarning: Creating an ndarray from ragged nested sequences (which is a list-or-tuple of lists-or-tuples-or ndarrays with different lengths or shapes) is deprecated. If you meant to do this, you must specify 'dtype=object' when creating the ndarray\n",
      "  [list(BatchSampler(SequentialSampler(np.arange(len(y_temp))), self.batch_size, drop_last=False))][0])\n",
      "/usr/local/lib/python3.7/dist-packages/distil/utils/similarity_mat.py:112: VisibleDeprecationWarning: Creating an ndarray from ragged nested sequences (which is a list-or-tuple of lists-or-tuples-or ndarrays with different lengths or shapes) is deprecated. If you meant to do this, you must specify 'dtype=object' when creating the ndarray\n",
      "  [list(BatchSampler(SequentialSampler(np.arange(len(y_temp))), self.batch_size, drop_last=False))][0])\n"
     ]
    },
    {
     "name": "stdout",
     "output_type": "stream",
     "text": [
      "Sample Size R=18\n",
      "Sample Size R=18\n"
     ]
    },
    {
     "name": "stderr",
     "output_type": "stream",
     "text": [
      "/usr/local/lib/python3.7/dist-packages/distil/utils/similarity_mat.py:112: VisibleDeprecationWarning: Creating an ndarray from ragged nested sequences (which is a list-or-tuple of lists-or-tuples-or ndarrays with different lengths or shapes) is deprecated. If you meant to do this, you must specify 'dtype=object' when creating the ndarray\n",
      "  [list(BatchSampler(SequentialSampler(np.arange(len(y_temp))), self.batch_size, drop_last=False))][0])\n",
      "/usr/local/lib/python3.7/dist-packages/distil/utils/similarity_mat.py:112: VisibleDeprecationWarning: Creating an ndarray from ragged nested sequences (which is a list-or-tuple of lists-or-tuples-or ndarrays with different lengths or shapes) is deprecated. If you meant to do this, you must specify 'dtype=object' when creating the ndarray\n",
      "  [list(BatchSampler(SequentialSampler(np.arange(len(y_temp))), self.batch_size, drop_last=False))][0])\n",
      "/usr/local/lib/python3.7/dist-packages/distil/utils/similarity_mat.py:112: VisibleDeprecationWarning: Creating an ndarray from ragged nested sequences (which is a list-or-tuple of lists-or-tuples-or ndarrays with different lengths or shapes) is deprecated. If you meant to do this, you must specify 'dtype=object' when creating the ndarray\n",
      "  [list(BatchSampler(SequentialSampler(np.arange(len(y_temp))), self.batch_size, drop_last=False))][0])\n",
      "/usr/local/lib/python3.7/dist-packages/distil/utils/similarity_mat.py:112: VisibleDeprecationWarning: Creating an ndarray from ragged nested sequences (which is a list-or-tuple of lists-or-tuples-or ndarrays with different lengths or shapes) is deprecated. If you meant to do this, you must specify 'dtype=object' when creating the ndarray\n",
      "  [list(BatchSampler(SequentialSampler(np.arange(len(y_temp))), self.batch_size, drop_last=False))][0])\n",
      "/usr/local/lib/python3.7/dist-packages/distil/utils/similarity_mat.py:112: VisibleDeprecationWarning: Creating an ndarray from ragged nested sequences (which is a list-or-tuple of lists-or-tuples-or ndarrays with different lengths or shapes) is deprecated. If you meant to do this, you must specify 'dtype=object' when creating the ndarray\n",
      "  [list(BatchSampler(SequentialSampler(np.arange(len(y_temp))), self.batch_size, drop_last=False))][0])\n",
      "/usr/local/lib/python3.7/dist-packages/distil/utils/similarity_mat.py:112: VisibleDeprecationWarning: Creating an ndarray from ragged nested sequences (which is a list-or-tuple of lists-or-tuples-or ndarrays with different lengths or shapes) is deprecated. If you meant to do this, you must specify 'dtype=object' when creating the ndarray\n",
      "  [list(BatchSampler(SequentialSampler(np.arange(len(y_temp))), self.batch_size, drop_last=False))][0])\n",
      "/usr/local/lib/python3.7/dist-packages/distil/utils/similarity_mat.py:112: VisibleDeprecationWarning: Creating an ndarray from ragged nested sequences (which is a list-or-tuple of lists-or-tuples-or ndarrays with different lengths or shapes) is deprecated. If you meant to do this, you must specify 'dtype=object' when creating the ndarray\n",
      "  [list(BatchSampler(SequentialSampler(np.arange(len(y_temp))), self.batch_size, drop_last=False))][0])\n",
      "/usr/local/lib/python3.7/dist-packages/distil/utils/similarity_mat.py:112: VisibleDeprecationWarning: Creating an ndarray from ragged nested sequences (which is a list-or-tuple of lists-or-tuples-or ndarrays with different lengths or shapes) is deprecated. If you meant to do this, you must specify 'dtype=object' when creating the ndarray\n",
      "  [list(BatchSampler(SequentialSampler(np.arange(len(y_temp))), self.batch_size, drop_last=False))][0])\n",
      "/usr/local/lib/python3.7/dist-packages/distil/utils/similarity_mat.py:112: VisibleDeprecationWarning: Creating an ndarray from ragged nested sequences (which is a list-or-tuple of lists-or-tuples-or ndarrays with different lengths or shapes) is deprecated. If you meant to do this, you must specify 'dtype=object' when creating the ndarray\n",
      "  [list(BatchSampler(SequentialSampler(np.arange(len(y_temp))), self.batch_size, drop_last=False))][0])\n"
     ]
    },
    {
     "name": "stdout",
     "output_type": "stream",
     "text": [
      "Sample Size R=18\n",
      "Sample Size R=18\n"
     ]
    },
    {
     "name": "stderr",
     "output_type": "stream",
     "text": [
      "/usr/local/lib/python3.7/dist-packages/distil/utils/similarity_mat.py:112: VisibleDeprecationWarning: Creating an ndarray from ragged nested sequences (which is a list-or-tuple of lists-or-tuples-or ndarrays with different lengths or shapes) is deprecated. If you meant to do this, you must specify 'dtype=object' when creating the ndarray\n",
      "  [list(BatchSampler(SequentialSampler(np.arange(len(y_temp))), self.batch_size, drop_last=False))][0])\n",
      "/usr/local/lib/python3.7/dist-packages/distil/utils/similarity_mat.py:112: VisibleDeprecationWarning: Creating an ndarray from ragged nested sequences (which is a list-or-tuple of lists-or-tuples-or ndarrays with different lengths or shapes) is deprecated. If you meant to do this, you must specify 'dtype=object' when creating the ndarray\n",
      "  [list(BatchSampler(SequentialSampler(np.arange(len(y_temp))), self.batch_size, drop_last=False))][0])\n",
      "/usr/local/lib/python3.7/dist-packages/distil/utils/similarity_mat.py:112: VisibleDeprecationWarning: Creating an ndarray from ragged nested sequences (which is a list-or-tuple of lists-or-tuples-or ndarrays with different lengths or shapes) is deprecated. If you meant to do this, you must specify 'dtype=object' when creating the ndarray\n",
      "  [list(BatchSampler(SequentialSampler(np.arange(len(y_temp))), self.batch_size, drop_last=False))][0])\n",
      "/usr/local/lib/python3.7/dist-packages/distil/utils/similarity_mat.py:112: VisibleDeprecationWarning: Creating an ndarray from ragged nested sequences (which is a list-or-tuple of lists-or-tuples-or ndarrays with different lengths or shapes) is deprecated. If you meant to do this, you must specify 'dtype=object' when creating the ndarray\n",
      "  [list(BatchSampler(SequentialSampler(np.arange(len(y_temp))), self.batch_size, drop_last=False))][0])\n",
      "/usr/local/lib/python3.7/dist-packages/distil/utils/similarity_mat.py:112: VisibleDeprecationWarning: Creating an ndarray from ragged nested sequences (which is a list-or-tuple of lists-or-tuples-or ndarrays with different lengths or shapes) is deprecated. If you meant to do this, you must specify 'dtype=object' when creating the ndarray\n",
      "  [list(BatchSampler(SequentialSampler(np.arange(len(y_temp))), self.batch_size, drop_last=False))][0])\n",
      "/usr/local/lib/python3.7/dist-packages/distil/utils/similarity_mat.py:112: VisibleDeprecationWarning: Creating an ndarray from ragged nested sequences (which is a list-or-tuple of lists-or-tuples-or ndarrays with different lengths or shapes) is deprecated. If you meant to do this, you must specify 'dtype=object' when creating the ndarray\n",
      "  [list(BatchSampler(SequentialSampler(np.arange(len(y_temp))), self.batch_size, drop_last=False))][0])\n",
      "/usr/local/lib/python3.7/dist-packages/distil/utils/similarity_mat.py:112: VisibleDeprecationWarning: Creating an ndarray from ragged nested sequences (which is a list-or-tuple of lists-or-tuples-or ndarrays with different lengths or shapes) is deprecated. If you meant to do this, you must specify 'dtype=object' when creating the ndarray\n",
      "  [list(BatchSampler(SequentialSampler(np.arange(len(y_temp))), self.batch_size, drop_last=False))][0])\n",
      "/usr/local/lib/python3.7/dist-packages/distil/utils/similarity_mat.py:112: VisibleDeprecationWarning: Creating an ndarray from ragged nested sequences (which is a list-or-tuple of lists-or-tuples-or ndarrays with different lengths or shapes) is deprecated. If you meant to do this, you must specify 'dtype=object' when creating the ndarray\n",
      "  [list(BatchSampler(SequentialSampler(np.arange(len(y_temp))), self.batch_size, drop_last=False))][0])\n",
      "/usr/local/lib/python3.7/dist-packages/distil/utils/similarity_mat.py:112: VisibleDeprecationWarning: Creating an ndarray from ragged nested sequences (which is a list-or-tuple of lists-or-tuples-or ndarrays with different lengths or shapes) is deprecated. If you meant to do this, you must specify 'dtype=object' when creating the ndarray\n",
      "  [list(BatchSampler(SequentialSampler(np.arange(len(y_temp))), self.batch_size, drop_last=False))][0])\n"
     ]
    },
    {
     "name": "stdout",
     "output_type": "stream",
     "text": [
      "Sample Size R=18\n",
      "Sample Size R=18\n"
     ]
    },
    {
     "name": "stderr",
     "output_type": "stream",
     "text": [
      "/usr/local/lib/python3.7/dist-packages/distil/utils/similarity_mat.py:112: VisibleDeprecationWarning: Creating an ndarray from ragged nested sequences (which is a list-or-tuple of lists-or-tuples-or ndarrays with different lengths or shapes) is deprecated. If you meant to do this, you must specify 'dtype=object' when creating the ndarray\n",
      "  [list(BatchSampler(SequentialSampler(np.arange(len(y_temp))), self.batch_size, drop_last=False))][0])\n",
      "/usr/local/lib/python3.7/dist-packages/distil/utils/similarity_mat.py:112: VisibleDeprecationWarning: Creating an ndarray from ragged nested sequences (which is a list-or-tuple of lists-or-tuples-or ndarrays with different lengths or shapes) is deprecated. If you meant to do this, you must specify 'dtype=object' when creating the ndarray\n",
      "  [list(BatchSampler(SequentialSampler(np.arange(len(y_temp))), self.batch_size, drop_last=False))][0])\n",
      "/usr/local/lib/python3.7/dist-packages/distil/utils/similarity_mat.py:112: VisibleDeprecationWarning: Creating an ndarray from ragged nested sequences (which is a list-or-tuple of lists-or-tuples-or ndarrays with different lengths or shapes) is deprecated. If you meant to do this, you must specify 'dtype=object' when creating the ndarray\n",
      "  [list(BatchSampler(SequentialSampler(np.arange(len(y_temp))), self.batch_size, drop_last=False))][0])\n",
      "/usr/local/lib/python3.7/dist-packages/distil/utils/similarity_mat.py:112: VisibleDeprecationWarning: Creating an ndarray from ragged nested sequences (which is a list-or-tuple of lists-or-tuples-or ndarrays with different lengths or shapes) is deprecated. If you meant to do this, you must specify 'dtype=object' when creating the ndarray\n",
      "  [list(BatchSampler(SequentialSampler(np.arange(len(y_temp))), self.batch_size, drop_last=False))][0])\n",
      "/usr/local/lib/python3.7/dist-packages/distil/utils/similarity_mat.py:112: VisibleDeprecationWarning: Creating an ndarray from ragged nested sequences (which is a list-or-tuple of lists-or-tuples-or ndarrays with different lengths or shapes) is deprecated. If you meant to do this, you must specify 'dtype=object' when creating the ndarray\n",
      "  [list(BatchSampler(SequentialSampler(np.arange(len(y_temp))), self.batch_size, drop_last=False))][0])\n",
      "/usr/local/lib/python3.7/dist-packages/distil/utils/similarity_mat.py:112: VisibleDeprecationWarning: Creating an ndarray from ragged nested sequences (which is a list-or-tuple of lists-or-tuples-or ndarrays with different lengths or shapes) is deprecated. If you meant to do this, you must specify 'dtype=object' when creating the ndarray\n",
      "  [list(BatchSampler(SequentialSampler(np.arange(len(y_temp))), self.batch_size, drop_last=False))][0])\n",
      "/usr/local/lib/python3.7/dist-packages/distil/utils/similarity_mat.py:112: VisibleDeprecationWarning: Creating an ndarray from ragged nested sequences (which is a list-or-tuple of lists-or-tuples-or ndarrays with different lengths or shapes) is deprecated. If you meant to do this, you must specify 'dtype=object' when creating the ndarray\n",
      "  [list(BatchSampler(SequentialSampler(np.arange(len(y_temp))), self.batch_size, drop_last=False))][0])\n",
      "/usr/local/lib/python3.7/dist-packages/distil/utils/similarity_mat.py:112: VisibleDeprecationWarning: Creating an ndarray from ragged nested sequences (which is a list-or-tuple of lists-or-tuples-or ndarrays with different lengths or shapes) is deprecated. If you meant to do this, you must specify 'dtype=object' when creating the ndarray\n",
      "  [list(BatchSampler(SequentialSampler(np.arange(len(y_temp))), self.batch_size, drop_last=False))][0])\n",
      "/usr/local/lib/python3.7/dist-packages/distil/utils/similarity_mat.py:112: VisibleDeprecationWarning: Creating an ndarray from ragged nested sequences (which is a list-or-tuple of lists-or-tuples-or ndarrays with different lengths or shapes) is deprecated. If you meant to do this, you must specify 'dtype=object' when creating the ndarray\n",
      "  [list(BatchSampler(SequentialSampler(np.arange(len(y_temp))), self.batch_size, drop_last=False))][0])\n"
     ]
    },
    {
     "name": "stdout",
     "output_type": "stream",
     "text": [
      "Sample Size R=18\n",
      "Sample Size R=18\n"
     ]
    },
    {
     "name": "stderr",
     "output_type": "stream",
     "text": [
      "/usr/local/lib/python3.7/dist-packages/distil/utils/similarity_mat.py:112: VisibleDeprecationWarning: Creating an ndarray from ragged nested sequences (which is a list-or-tuple of lists-or-tuples-or ndarrays with different lengths or shapes) is deprecated. If you meant to do this, you must specify 'dtype=object' when creating the ndarray\n",
      "  [list(BatchSampler(SequentialSampler(np.arange(len(y_temp))), self.batch_size, drop_last=False))][0])\n",
      "/usr/local/lib/python3.7/dist-packages/distil/utils/similarity_mat.py:112: VisibleDeprecationWarning: Creating an ndarray from ragged nested sequences (which is a list-or-tuple of lists-or-tuples-or ndarrays with different lengths or shapes) is deprecated. If you meant to do this, you must specify 'dtype=object' when creating the ndarray\n",
      "  [list(BatchSampler(SequentialSampler(np.arange(len(y_temp))), self.batch_size, drop_last=False))][0])\n",
      "/usr/local/lib/python3.7/dist-packages/distil/utils/similarity_mat.py:112: VisibleDeprecationWarning: Creating an ndarray from ragged nested sequences (which is a list-or-tuple of lists-or-tuples-or ndarrays with different lengths or shapes) is deprecated. If you meant to do this, you must specify 'dtype=object' when creating the ndarray\n",
      "  [list(BatchSampler(SequentialSampler(np.arange(len(y_temp))), self.batch_size, drop_last=False))][0])\n",
      "/usr/local/lib/python3.7/dist-packages/distil/utils/similarity_mat.py:112: VisibleDeprecationWarning: Creating an ndarray from ragged nested sequences (which is a list-or-tuple of lists-or-tuples-or ndarrays with different lengths or shapes) is deprecated. If you meant to do this, you must specify 'dtype=object' when creating the ndarray\n",
      "  [list(BatchSampler(SequentialSampler(np.arange(len(y_temp))), self.batch_size, drop_last=False))][0])\n",
      "/usr/local/lib/python3.7/dist-packages/distil/utils/similarity_mat.py:112: VisibleDeprecationWarning: Creating an ndarray from ragged nested sequences (which is a list-or-tuple of lists-or-tuples-or ndarrays with different lengths or shapes) is deprecated. If you meant to do this, you must specify 'dtype=object' when creating the ndarray\n",
      "  [list(BatchSampler(SequentialSampler(np.arange(len(y_temp))), self.batch_size, drop_last=False))][0])\n",
      "/usr/local/lib/python3.7/dist-packages/distil/utils/similarity_mat.py:112: VisibleDeprecationWarning: Creating an ndarray from ragged nested sequences (which is a list-or-tuple of lists-or-tuples-or ndarrays with different lengths or shapes) is deprecated. If you meant to do this, you must specify 'dtype=object' when creating the ndarray\n",
      "  [list(BatchSampler(SequentialSampler(np.arange(len(y_temp))), self.batch_size, drop_last=False))][0])\n",
      "/usr/local/lib/python3.7/dist-packages/distil/utils/similarity_mat.py:112: VisibleDeprecationWarning: Creating an ndarray from ragged nested sequences (which is a list-or-tuple of lists-or-tuples-or ndarrays with different lengths or shapes) is deprecated. If you meant to do this, you must specify 'dtype=object' when creating the ndarray\n",
      "  [list(BatchSampler(SequentialSampler(np.arange(len(y_temp))), self.batch_size, drop_last=False))][0])\n",
      "/usr/local/lib/python3.7/dist-packages/distil/utils/similarity_mat.py:112: VisibleDeprecationWarning: Creating an ndarray from ragged nested sequences (which is a list-or-tuple of lists-or-tuples-or ndarrays with different lengths or shapes) is deprecated. If you meant to do this, you must specify 'dtype=object' when creating the ndarray\n",
      "  [list(BatchSampler(SequentialSampler(np.arange(len(y_temp))), self.batch_size, drop_last=False))][0])\n",
      "/usr/local/lib/python3.7/dist-packages/distil/utils/similarity_mat.py:112: VisibleDeprecationWarning: Creating an ndarray from ragged nested sequences (which is a list-or-tuple of lists-or-tuples-or ndarrays with different lengths or shapes) is deprecated. If you meant to do this, you must specify 'dtype=object' when creating the ndarray\n",
      "  [list(BatchSampler(SequentialSampler(np.arange(len(y_temp))), self.batch_size, drop_last=False))][0])\n"
     ]
    }
   ],
   "source": [
    "acc_dulo_dict = {}\n",
    "acc_random_dict = {}\n",
    "acc_optimal_dict = {}\n",
    "acc_fass_dict = {}\n",
    "acc_badge_dict = {}\n",
    "acc_glister_dict = {}\n",
    "\n",
    "rank_dulo_dict = {}\n",
    "rank_random_dict = {}\n",
    "rank_optimal_dict = {}\n",
    "rank_fass_dict = {}\n",
    "rank_badge_dict = {}\n",
    "rank_glister_dict = {}\n",
    "\n",
    "net_al = torch_encoder_logistic_data_to_net(mnist_x_train_few_resNetFeature, y_train_few, mnist_x_val_few_resNetFeature, y_val_few)\n",
    "\n",
    "for seed in range(12, 18):\n",
    "  _, deepset_selected_rank, _ = findMostValuableSample_deepset_stochasticgreedy(model.model, usps_x_unlabel_resNetFeature, target_size, epsilon=1e-4, seed=seed)\n",
    "  random_perm = np.random.permutation(range(unlabel_size))\n",
    "  _, optimal_dulo_selected_rank, _ = findMostValuableSample_deepset_stochasticgreedy(model_optimal_usps.model, usps_x_unlabel_resNetFeature, target_size, epsilon=1e-4, seed=seed)\n",
    "\n",
    "  strategy_args = {'batch_size':target_size, 'submod':'facility_location', 'selection_type':'PerClass'}\n",
    "  strategy = FASS(mnist_x_train_few_resNetFeature, mnist_y_train_few, usps_x_unlabel_resNetFeature, net_al.cuda(), DataHandler_Points, 10, strategy_args)\n",
    "  fass_selected_rank = strategy.select(target_size)\n",
    "\n",
    "  strategy_args = {'batch_size' : target_size}\n",
    "  strategy = BADGE(mnist_x_train_few_resNetFeature, mnist_y_train_few, usps_x_unlabel_resNetFeature, net_al.cuda(), DataHandler_Points, 10, strategy_args)\n",
    "  badge_selected_rank = strategy.select(target_size)\n",
    "\n",
    "  strategy_args = {'batch_size' : target_size, 'lr':float(0.001)}\n",
    "  strategy = glister.GLISTER(mnist_x_train_few_resNetFeature, np.argmax(y_train_few, axis=1), usps_x_unlabel_resNetFeature, net_al.cuda(), DataHandler_Points, 10, strategy_args, \n",
    "                            valid=True, X_val=mnist_x_val_few_resNetFeature, Y_val=np.argmax(y_val_few, axis=1))\n",
    "  glister_selected_rank = strategy.select(target_size)\n",
    "\n",
    "  rank_dulo_dict[seed] = deepset_selected_rank\n",
    "  rank_random_dict[seed] = random_perm\n",
    "  rank_optimal_dict[seed] = optimal_dulo_selected_rank\n",
    "  rank_fass_dict[seed] = fass_selected_rank\n",
    "  rank_badge_dict[seed] = badge_selected_rank\n",
    "  rank_glister_dict[seed] = glister_selected_rank\n",
    "\n",
    "\n",
    "  acc_greedy = []\n",
    "  acc_random = []\n",
    "  acc_optimal = []\n",
    "  acc_fass = []\n",
    "  acc_badge = []\n",
    "  acc_glister = []\n",
    "\n",
    "  inspect_points = np.linspace(1, target_size, num=10).astype(int)\n",
    "\n",
    "  for i in inspect_points:\n",
    "    acc_greedy.append(usps_svm_data_to_acc(usps_x_unlabel[deepset_selected_rank[:i]], usps_y_unlabel[deepset_selected_rank[:i]], usps_x_test, usps_y_test))\n",
    "    acc_random.append(usps_svm_data_to_acc(usps_x_unlabel[random_perm[:i]], usps_y_unlabel[random_perm[:i]], usps_x_test, usps_y_test))\n",
    "    acc_optimal.append(usps_svm_data_to_acc(usps_x_unlabel[optimal_dulo_selected_rank[:i]], usps_y_unlabel[optimal_dulo_selected_rank[:i]], usps_x_test, usps_y_test) )\n",
    "    acc_fass.append(usps_svm_data_to_acc(usps_x_unlabel[fass_selected_rank[:i]], usps_y_unlabel[fass_selected_rank[:i]], usps_x_test, usps_y_test))\n",
    "    acc_badge.append(usps_svm_data_to_acc(usps_x_unlabel[badge_selected_rank[:i]], usps_y_unlabel[badge_selected_rank[:i]], usps_x_test, usps_y_test))\n",
    "    acc_glister.append(usps_svm_data_to_acc(usps_x_unlabel[glister_selected_rank[:i]], usps_y_unlabel[glister_selected_rank[:i]], usps_x_test, usps_y_test))\n",
    "\n",
    "  acc_dulo_dict[seed] = acc_greedy\n",
    "  acc_random_dict[seed] = acc_random\n",
    "  acc_optimal_dict[seed] = acc_optimal\n",
    "  acc_fass_dict[seed] = acc_fass\n",
    "  acc_badge_dict[seed] = acc_badge\n",
    "  acc_glister_dict[seed] = acc_glister"
   ]
  },
  {
   "cell_type": "markdown",
   "metadata": {
    "id": "GGj0Sd6IcARn"
   },
   "source": [
    "### load rank and acc"
   ]
  },
  {
   "cell_type": "code",
   "execution_count": null,
   "metadata": {
    "id": "xIcA_S0b9CSn"
   },
   "outputs": [],
   "source": [
    "corruption = 'Noisy'\n",
    "model_dir = prefix + '/active-learning-transfer/models/cycada/ds/iter_1_28_noise'\n",
    "\n",
    "rank_dulo_dict, rank_random_dict, rank_optimal_dict, rank_fass_dict, rank_badge_dict, rank_glister_dict = pickle.load(open(model_dir+\"/rank_12_18_{}.pkl\".format(corruption),\"rb\"))\n",
    "acc_dulo_dict, acc_random_dict, acc_optimal_dict, acc_fass_dict, acc_badge_dict, acc_glister_dict = pickle.load(open(model_dir+\"/acc_12_18_{}.pkl\".format(corruption),\"rb\"))"
   ]
  },
  {
   "cell_type": "markdown",
   "metadata": {
    "id": "KBWjHtgecGtt"
   },
   "source": [
    "### plot"
   ]
  },
  {
   "cell_type": "code",
   "execution_count": 66,
   "metadata": {
    "colab": {
     "base_uri": "https://localhost:8080/",
     "height": 314
    },
    "id": "fh1lUFgHFEHd",
    "outputId": "aee870c5-eb04-45fe-fade-1e480724f1aa"
   },
   "outputs": [
    {
     "data": {
      "image/png": "[encoded data removed]",
      "text/plain": [
       "<Figure size 432x288 with 1 Axes>"
      ]
     },
     "metadata": {
      "needs_background": "light",
      "tags": []
     },
     "output_type": "display_data"
    }
   ],
   "source": [
    "corruption = 'Noisy'\n",
    "target_size = 1000\n",
    "inspect_points = np.linspace(100, target_size, num=10).astype(int)\n",
    "\n",
    "acc_dulo = np.zeros((6, 10))\n",
    "acc_random = np.zeros((6, 10))\n",
    "acc_optimal = np.zeros((6, 10))\n",
    "acc_fass = np.zeros((6, 10))\n",
    "acc_badge = np.zeros((6, 10))\n",
    "acc_glister = np.zeros((6, 10))\n",
    "\n",
    "for i in range(6):\n",
    "  seed = i+12\n",
    "  acc_dulo[i] = acc_dulo_dict[seed]\n",
    "  acc_random[i] = acc_random_dict[seed]\n",
    "  acc_optimal[i] = acc_optimal_dict[seed]\n",
    "  acc_fass[i] = acc_fass_dict[seed]\n",
    "  acc_badge[i] = acc_badge_dict[seed]\n",
    "  acc_glister[i] = acc_glister_dict[seed]\n",
    "\n",
    "plt.figure()\n",
    "\n",
    "def plot_fill(record, name, col):\n",
    "  if name in ['DULO', 'Optimal']:\n",
    "    plt.plot(inspect_points, np.mean(record, axis=0), label=name, color=col, marker='o')\n",
    "  else:\n",
    "    plt.plot(inspect_points, np.mean(record, axis=0), label=name, color=col)\n",
    "  plt.fill_between(inspect_points, np.mean(record, axis=0)+np.std(record, axis=0), np.mean(record, axis=0)-np.std(record, axis=0), alpha=0.2, color=col)\n",
    "\n",
    "\n",
    "font = {'size': 10}\n",
    "plt.rc('font', **font)\n",
    "plt.rc('xtick', labelsize=15)\n",
    "plt.rc('ytick', labelsize=15)\n",
    "\n",
    "\n",
    "\n",
    "plot_fill(acc_dulo, 'DULO', 'C0')\n",
    "plot_fill(acc_random, 'Random', 'C1')\n",
    "plot_fill(acc_optimal, 'Optimal', 'C2')\n",
    "plot_fill(acc_fass, 'FASS', 'C3')\n",
    "plot_fill(acc_badge, 'BADGE', 'C4')\n",
    "plot_fill(acc_glister, 'GLISTER', 'C5')\n",
    "\n",
    "\n",
    "\n",
    "\n",
    "plt.title('MNIST->USPS, SVM, ' + corruption, fontsize = 20) \n",
    "plt.ylabel('Classifier Accuracy', fontsize = 20)\n",
    "plt.xlabel('# Selected Data Points', fontsize = 20)\n",
    "plt.legend()\n",
    "plt.show()"
   ]
  },
  {
   "cell_type": "code",
   "execution_count": null,
   "metadata": {
    "colab": {
     "base_uri": "https://localhost:8080/"
    },
    "id": "VNYzUUMhdPpe",
    "outputId": "2f547d2d-51d0-4aea-e12e-31e66cfe0992"
   },
   "outputs": [
    {
     "name": "stdout",
     "output_type": "stream",
     "text": [
      "Rotation\n"
     ]
    }
   ],
   "source": [
    "print(corruption)"
   ]
  },
  {
   "cell_type": "code",
   "execution_count": null,
   "metadata": {
    "id": "at0TrsS2wZ9e"
   },
   "outputs": [],
   "source": [
    "pickle.dump([rank_dulo_dict, rank_random_dict, rank_optimal_dict, rank_fass_dict, rank_badge_dict, rank_glister_dict], open(model_dir+\"/rank_12_18_{}.pkl\".format(corruption),\"wb\"))\n",
    "pickle.dump([acc_dulo_dict, acc_random_dict, acc_optimal_dict, acc_fass_dict, acc_badge_dict, acc_glister_dict], open(model_dir+\"/acc_12_18_{}.pkl\".format(corruption),\"wb\"))"
   ]
  },
  {
   "cell_type": "code",
   "execution_count": null,
   "metadata": {
    "colab": {
     "base_uri": "https://localhost:8080/"
    },
    "id": "4IVeeKs75iQK",
    "outputId": "1b999e9e-856c-4d4b-9790-414d05880e6a"
   },
   "outputs": [
    {
     "name": "stdout",
     "output_type": "stream",
     "text": [
      "/content/gdrive/My Drive//active-learning-transfer/models/cycada/ds/iter_1_28_noise\n"
     ]
    }
   ],
   "source": [
    "print(model_dir)"
   ]
  },
  {
   "cell_type": "markdown",
   "metadata": {
    "id": "jsE7viR36ZWJ"
   },
   "source": [
    "## Multi seed (fine-tune)"
   ]
  },
  {
   "cell_type": "code",
   "execution_count": null,
   "metadata": {
    "id": "_KTP0bh7BmhH"
   },
   "outputs": [],
   "source": [
    "def check_selection_unnormal(set_selected):\n",
    "  # input is torch tensor\n",
    "  for i in range(10):\n",
    "    if i in set_selected:\n",
    "      continue\n",
    "    else:\n",
    "      return True\n",
    "  return False\n"
   ]
  },
  {
   "cell_type": "code",
   "execution_count": 68,
   "metadata": {
    "colab": {
     "base_uri": "https://localhost:8080/"
    },
    "id": "EUAHIVGOe6Sl",
    "outputId": "a40ede89-68a9-4c43-898d-efb54f1af117"
   },
   "outputs": [
    {
     "name": "stdout",
     "output_type": "stream",
     "text": [
      "100\n",
      "Model Accuracy: 85.65022277832031\n",
      "Model Accuracy: 81.51470184326172\n",
      "Model Accuracy: 84.55406188964844\n",
      "Unnormal Alert!\n",
      "Model Accuracy: 81.71400451660156\n",
      "Model Accuracy: 81.81365203857422\n",
      "Model Accuracy: 81.56452178955078\n",
      "200\n",
      "Model Accuracy: 85.30144500732422\n",
      "Model Accuracy: 81.46487426757812\n",
      "Model Accuracy: 85.65022277832031\n",
      "Model Accuracy: 81.71400451660156\n",
      "Model Accuracy: 81.9133071899414\n",
      "Model Accuracy: 81.66417694091797\n",
      "300\n",
      "Model Accuracy: 84.75336456298828\n",
      "Model Accuracy: 81.76382446289062\n",
      "Model Accuracy: 83.20877075195312\n",
      "Model Accuracy: 81.66417694091797\n",
      "Model Accuracy: 81.76382446289062\n",
      "Model Accuracy: 81.56452178955078\n",
      "400\n",
      "Model Accuracy: 84.45440673828125\n",
      "Model Accuracy: 81.61434936523438\n",
      "Model Accuracy: 82.16242980957031\n",
      "Model Accuracy: 81.61434936523438\n",
      "Model Accuracy: 81.56452178955078\n",
      "Model Accuracy: 81.66417694091797\n",
      "500\n",
      "Model Accuracy: 86.54708862304688\n",
      "Model Accuracy: 81.66417694091797\n",
      "Model Accuracy: 84.75336456298828\n",
      "Model Accuracy: 81.61434936523438\n",
      "Model Accuracy: 81.81365203857422\n",
      "Model Accuracy: 81.86347961425781\n",
      "600\n",
      "Model Accuracy: 86.14848327636719\n",
      "Model Accuracy: 81.66417694091797\n",
      "Model Accuracy: 85.9990005493164\n",
      "Model Accuracy: 81.51470184326172\n",
      "Model Accuracy: 81.9133071899414\n",
      "Model Accuracy: 81.86347961425781\n",
      "700\n",
      "Model Accuracy: 88.29098510742188\n",
      "Model Accuracy: 81.61434936523438\n",
      "Model Accuracy: 84.10562896728516\n",
      "Model Accuracy: 81.81365203857422\n",
      "Model Accuracy: 81.81365203857422\n",
      "Model Accuracy: 82.01295471191406\n",
      "800\n",
      "Model Accuracy: 83.40807342529297\n",
      "Model Accuracy: 81.76382446289062\n",
      "Model Accuracy: 81.86347961425781\n",
      "Model Accuracy: 81.56452178955078\n",
      "Model Accuracy: 81.81365203857422\n",
      "Model Accuracy: 81.81365203857422\n",
      "900\n",
      "Model Accuracy: 83.05929565429688\n",
      "Model Accuracy: 81.61434936523438\n",
      "Model Accuracy: 81.81365203857422\n",
      "Model Accuracy: 81.81365203857422\n",
      "Model Accuracy: 81.71400451660156\n",
      "Model Accuracy: 81.86347961425781\n",
      "1000\n",
      "Model Accuracy: 81.86347961425781\n",
      "Model Accuracy: 81.56452178955078\n",
      "Model Accuracy: 81.86347961425781\n",
      "Model Accuracy: 81.86347961425781\n",
      "Model Accuracy: 81.86347961425781\n",
      "Model Accuracy: 81.86347961425781\n",
      "100\n",
      "Model Accuracy: 84.20528411865234\n",
      "Model Accuracy: 81.51470184326172\n",
      "Model Accuracy: 85.60039520263672\n",
      "Unnormal Alert!\n",
      "Model Accuracy: 81.51470184326172\n",
      "Model Accuracy: 81.51470184326172\n",
      "Model Accuracy: 81.66417694091797\n",
      "200\n",
      "Model Accuracy: 85.7000503540039\n",
      "Model Accuracy: 81.56452178955078\n",
      "Model Accuracy: 82.06278228759766\n",
      "Model Accuracy: 81.66417694091797\n",
      "Model Accuracy: 81.71400451660156\n",
      "Model Accuracy: 81.66417694091797\n",
      "300\n",
      "Model Accuracy: 83.80667877197266\n",
      "Model Accuracy: 81.56452178955078\n",
      "Model Accuracy: 82.11260223388672\n",
      "Model Accuracy: 81.66417694091797\n",
      "Model Accuracy: 81.71400451660156\n",
      "Model Accuracy: 81.51470184326172\n",
      "400\n",
      "Model Accuracy: 84.3547592163086\n",
      "Model Accuracy: 81.56452178955078\n",
      "Model Accuracy: 84.15545654296875\n",
      "Model Accuracy: 81.66417694091797\n",
      "Model Accuracy: 81.56452178955078\n",
      "Model Accuracy: 81.71400451660156\n",
      "500\n",
      "Model Accuracy: 86.99551391601562\n",
      "Model Accuracy: 81.56452178955078\n",
      "Model Accuracy: 86.34778594970703\n",
      "Model Accuracy: 81.66417694091797\n",
      "Model Accuracy: 81.56452178955078\n",
      "Model Accuracy: 82.5112075805664\n",
      "600\n",
      "Model Accuracy: 84.10562896728516\n",
      "Model Accuracy: 81.61434936523438\n",
      "Model Accuracy: 86.49726104736328\n",
      "Model Accuracy: 81.61434936523438\n",
      "Model Accuracy: 81.56452178955078\n",
      "Model Accuracy: 81.76382446289062\n",
      "700\n",
      "Model Accuracy: 84.0059814453125\n",
      "Model Accuracy: 81.71400451660156\n",
      "Model Accuracy: 84.70353698730469\n",
      "Model Accuracy: 81.86347961425781\n",
      "Model Accuracy: 81.9133071899414\n",
      "Model Accuracy: 81.9133071899414\n",
      "800\n",
      "Model Accuracy: 84.40458679199219\n",
      "Model Accuracy: 81.66417694091797\n",
      "Model Accuracy: 83.30841827392578\n",
      "Model Accuracy: 81.76382446289062\n",
      "Model Accuracy: 81.76382446289062\n",
      "Model Accuracy: 81.81365203857422\n",
      "900\n",
      "Model Accuracy: 81.86347961425781\n",
      "Model Accuracy: 81.76382446289062\n",
      "Model Accuracy: 81.86347961425781\n",
      "Model Accuracy: 81.86347961425781\n",
      "Model Accuracy: 81.81365203857422\n",
      "Model Accuracy: 81.86347961425781\n",
      "1000\n",
      "Model Accuracy: 82.06278228759766\n",
      "Model Accuracy: 81.56452178955078\n",
      "Model Accuracy: 81.86347961425781\n",
      "Model Accuracy: 81.86347961425781\n",
      "Model Accuracy: 81.96312713623047\n",
      "Model Accuracy: 81.86347961425781\n",
      "100\n",
      "Unnormal Alert!\n",
      "Model Accuracy: 83.20877075195312\n",
      "Model Accuracy: 82.56103515625\n",
      "Model Accuracy: 81.66417694091797\n",
      "Unnormal Alert!\n",
      "Model Accuracy: 81.86347961425781\n",
      "Model Accuracy: 81.66417694091797\n",
      "Model Accuracy: 81.86347961425781\n",
      "200\n",
      "Model Accuracy: 82.01295471191406\n",
      "Model Accuracy: 81.66417694091797\n",
      "Model Accuracy: 85.30144500732422\n",
      "Model Accuracy: 81.66417694091797\n",
      "Model Accuracy: 81.9133071899414\n",
      "Model Accuracy: 81.56452178955078\n",
      "300\n",
      "Model Accuracy: 84.3547592163086\n",
      "Model Accuracy: 81.71400451660156\n",
      "Model Accuracy: 84.0059814453125\n",
      "Model Accuracy: 81.66417694091797\n",
      "Model Accuracy: 81.66417694091797\n",
      "Model Accuracy: 81.76382446289062\n",
      "400\n",
      "Model Accuracy: 86.74639129638672\n",
      "Model Accuracy: 81.51470184326172\n",
      "Model Accuracy: 85.65022277832031\n",
      "Model Accuracy: 81.66417694091797\n",
      "Model Accuracy: 81.9133071899414\n",
      "Model Accuracy: 81.76382446289062\n",
      "500\n",
      "Model Accuracy: 84.40458679199219\n",
      "Model Accuracy: 81.56452178955078\n",
      "Model Accuracy: 86.3976058959961\n",
      "Model Accuracy: 81.66417694091797\n",
      "Model Accuracy: 83.10911560058594\n",
      "Model Accuracy: 82.06278228759766\n",
      "600\n",
      "Model Accuracy: 84.55406188964844\n",
      "Model Accuracy: 81.56452178955078\n",
      "Model Accuracy: 86.3976058959961\n",
      "Model Accuracy: 81.61434936523438\n",
      "Model Accuracy: 81.81365203857422\n",
      "Model Accuracy: 81.76382446289062\n",
      "700\n",
      "Model Accuracy: 83.40807342529297\n",
      "Model Accuracy: 81.56452178955078\n",
      "Model Accuracy: 86.64673614501953\n",
      "Model Accuracy: 81.86347961425781\n",
      "Model Accuracy: 81.9133071899414\n",
      "Model Accuracy: 81.81365203857422\n",
      "800\n",
      "Model Accuracy: 83.50772094726562\n",
      "Model Accuracy: 81.61434936523438\n",
      "Model Accuracy: 83.25859832763672\n",
      "Model Accuracy: 81.66417694091797\n",
      "Model Accuracy: 81.66417694091797\n",
      "Model Accuracy: 81.86347961425781\n",
      "900\n",
      "Model Accuracy: 81.86347961425781\n",
      "Model Accuracy: 81.61434936523438\n",
      "Model Accuracy: 83.80667877197266\n",
      "Model Accuracy: 81.86347961425781\n",
      "Model Accuracy: 81.9133071899414\n",
      "Model Accuracy: 81.66417694091797\n",
      "1000\n",
      "Model Accuracy: 81.86347961425781\n",
      "Model Accuracy: 81.66417694091797\n",
      "Model Accuracy: 81.86347961425781\n",
      "Model Accuracy: 81.86347961425781\n",
      "Model Accuracy: 81.61434936523438\n",
      "Model Accuracy: 81.86347961425781\n",
      "100\n",
      "Model Accuracy: 84.15545654296875\n",
      "Model Accuracy: 81.51470184326172\n",
      "Model Accuracy: 84.304931640625\n",
      "Unnormal Alert!\n",
      "Model Accuracy: 81.51470184326172\n",
      "Model Accuracy: 81.96312713623047\n",
      "Model Accuracy: 81.66417694091797\n",
      "200\n",
      "Model Accuracy: 84.304931640625\n",
      "Model Accuracy: 81.56452178955078\n",
      "Model Accuracy: 84.2551040649414\n",
      "Model Accuracy: 81.66417694091797\n",
      "Model Accuracy: 83.00946807861328\n",
      "Model Accuracy: 81.96312713623047\n",
      "300\n",
      "Model Accuracy: 85.9990005493164\n",
      "Model Accuracy: 81.56452178955078\n",
      "Model Accuracy: 82.01295471191406\n",
      "Model Accuracy: 81.66417694091797\n",
      "Model Accuracy: 84.10562896728516\n",
      "Model Accuracy: 81.56452178955078\n",
      "400\n",
      "Model Accuracy: 86.44743347167969\n",
      "Model Accuracy: 81.56452178955078\n",
      "Model Accuracy: 85.45092010498047\n",
      "Model Accuracy: 81.66417694091797\n",
      "Model Accuracy: 81.56452178955078\n",
      "Model Accuracy: 81.71400451660156\n",
      "500\n",
      "Model Accuracy: 86.84603881835938\n",
      "Model Accuracy: 81.61434936523438\n",
      "Model Accuracy: 85.00249481201172\n",
      "Model Accuracy: 81.66417694091797\n",
      "Model Accuracy: 81.76382446289062\n",
      "Model Accuracy: 81.86347961425781\n",
      "600\n",
      "Model Accuracy: 87.89237976074219\n",
      "Model Accuracy: 81.66417694091797\n",
      "Model Accuracy: 86.74639129638672\n",
      "Model Accuracy: 81.61434936523438\n",
      "Model Accuracy: 81.56452178955078\n",
      "Model Accuracy: 81.86347961425781\n",
      "700\n",
      "Model Accuracy: 85.94918060302734\n",
      "Model Accuracy: 81.66417694091797\n",
      "Model Accuracy: 87.04534149169922\n",
      "Model Accuracy: 81.66417694091797\n",
      "Model Accuracy: 81.81365203857422\n",
      "Model Accuracy: 81.76382446289062\n",
      "800\n",
      "Model Accuracy: 85.94918060302734\n",
      "Model Accuracy: 81.61434936523438\n",
      "Model Accuracy: 83.60737609863281\n",
      "Model Accuracy: 81.86347961425781\n",
      "Model Accuracy: 82.16242980957031\n",
      "Model Accuracy: 81.81365203857422\n",
      "900\n",
      "Model Accuracy: 81.96312713623047\n",
      "Model Accuracy: 81.61434936523438\n",
      "Model Accuracy: 82.76033782958984\n",
      "Model Accuracy: 81.86347961425781\n",
      "Model Accuracy: 81.86347961425781\n",
      "Model Accuracy: 81.86347961425781\n",
      "1000\n",
      "Model Accuracy: 81.86347961425781\n",
      "Model Accuracy: 81.66417694091797\n",
      "Model Accuracy: 81.86347961425781\n",
      "Model Accuracy: 81.86347961425781\n",
      "Model Accuracy: 81.86347961425781\n",
      "Model Accuracy: 81.86347961425781\n",
      "100\n",
      "Model Accuracy: 82.01295471191406\n",
      "Model Accuracy: 81.66417694091797\n",
      "Model Accuracy: 85.94918060302734\n",
      "Unnormal Alert!\n",
      "Model Accuracy: 81.51470184326172\n",
      "Model Accuracy: 81.96312713623047\n",
      "Model Accuracy: 81.56452178955078\n",
      "200\n",
      "Model Accuracy: 86.79621124267578\n",
      "Model Accuracy: 81.71400451660156\n",
      "Model Accuracy: 83.05929565429688\n",
      "Model Accuracy: 81.66417694091797\n",
      "Model Accuracy: 81.9133071899414\n",
      "Model Accuracy: 81.71400451660156\n",
      "300\n",
      "Model Accuracy: 85.94918060302734\n",
      "Model Accuracy: 81.61434936523438\n",
      "Model Accuracy: 83.15894317626953\n",
      "Model Accuracy: 81.66417694091797\n",
      "Model Accuracy: 81.66417694091797\n",
      "Model Accuracy: 81.71400451660156\n",
      "400\n",
      "Model Accuracy: 84.60388946533203\n",
      "Model Accuracy: 81.61434936523438\n",
      "Model Accuracy: 85.10214233398438\n",
      "Model Accuracy: 81.66417694091797\n",
      "Model Accuracy: 81.86347961425781\n",
      "Model Accuracy: 81.56452178955078\n",
      "500\n",
      "Model Accuracy: 84.55406188964844\n",
      "Model Accuracy: 81.56452178955078\n",
      "Model Accuracy: 85.10214233398438\n",
      "Model Accuracy: 81.66417694091797\n",
      "Model Accuracy: 81.96312713623047\n",
      "Model Accuracy: 81.66417694091797\n",
      "600\n",
      "Model Accuracy: 84.85301208496094\n",
      "Model Accuracy: 81.56452178955078\n",
      "Model Accuracy: 83.40807342529297\n",
      "Model Accuracy: 81.56452178955078\n",
      "Model Accuracy: 81.9133071899414\n",
      "Model Accuracy: 82.46138763427734\n",
      "700\n",
      "Model Accuracy: 86.0986557006836\n",
      "Model Accuracy: 81.61434936523438\n",
      "Model Accuracy: 82.6108627319336\n",
      "Model Accuracy: 81.71400451660156\n",
      "Model Accuracy: 81.71400451660156\n",
      "Model Accuracy: 81.66417694091797\n",
      "800\n",
      "Model Accuracy: 86.24813079833984\n",
      "Model Accuracy: 81.61434936523438\n",
      "Model Accuracy: 85.79969787597656\n",
      "Model Accuracy: 81.66417694091797\n",
      "Model Accuracy: 81.76382446289062\n",
      "Model Accuracy: 81.86347961425781\n",
      "900\n",
      "Model Accuracy: 83.10911560058594\n",
      "Model Accuracy: 81.61434936523438\n",
      "Model Accuracy: 81.9133071899414\n",
      "Model Accuracy: 81.71400451660156\n",
      "Model Accuracy: 81.81365203857422\n",
      "Model Accuracy: 81.71400451660156\n",
      "1000\n",
      "Model Accuracy: 81.86347961425781\n",
      "Model Accuracy: 81.56452178955078\n",
      "Model Accuracy: 81.86347961425781\n",
      "Model Accuracy: 81.86347961425781\n",
      "Model Accuracy: 81.9133071899414\n",
      "Model Accuracy: 81.86347961425781\n",
      "100\n",
      "Model Accuracy: 81.61434936523438\n",
      "Model Accuracy: 81.71400451660156\n",
      "Model Accuracy: 81.76382446289062\n",
      "Unnormal Alert!\n",
      "Model Accuracy: 81.56452178955078\n",
      "Model Accuracy: 81.76382446289062\n",
      "Model Accuracy: 81.71400451660156\n",
      "200\n",
      "Model Accuracy: 85.60039520263672\n",
      "Model Accuracy: 81.71400451660156\n",
      "Model Accuracy: 81.96312713623047\n",
      "Model Accuracy: 81.81365203857422\n",
      "Model Accuracy: 81.71400451660156\n",
      "Model Accuracy: 81.9133071899414\n",
      "300\n",
      "Model Accuracy: 84.304931640625\n",
      "Model Accuracy: 81.61434936523438\n",
      "Model Accuracy: 85.55057525634766\n",
      "Model Accuracy: 81.66417694091797\n",
      "Model Accuracy: 81.9133071899414\n",
      "Model Accuracy: 81.56452178955078\n",
      "400\n",
      "Model Accuracy: 86.3976058959961\n",
      "Model Accuracy: 82.56103515625\n",
      "Model Accuracy: 85.00249481201172\n",
      "Model Accuracy: 81.66417694091797\n",
      "Model Accuracy: 81.56452178955078\n",
      "Model Accuracy: 81.61434936523438\n",
      "500\n",
      "Model Accuracy: 86.74639129638672\n",
      "Model Accuracy: 81.66417694091797\n",
      "Model Accuracy: 83.45790100097656\n",
      "Model Accuracy: 81.66417694091797\n",
      "Model Accuracy: 83.05929565429688\n",
      "Model Accuracy: 82.06278228759766\n",
      "600\n",
      "Model Accuracy: 84.85301208496094\n",
      "Model Accuracy: 81.66417694091797\n",
      "Model Accuracy: 84.2551040649414\n",
      "Model Accuracy: 81.66417694091797\n",
      "Model Accuracy: 81.86347961425781\n",
      "Model Accuracy: 82.41156005859375\n",
      "700\n",
      "Model Accuracy: 87.14498901367188\n",
      "Model Accuracy: 81.56452178955078\n",
      "Model Accuracy: 86.49726104736328\n",
      "Model Accuracy: 81.66417694091797\n",
      "Model Accuracy: 81.86347961425781\n",
      "Model Accuracy: 81.81365203857422\n",
      "800\n",
      "Model Accuracy: 86.29795837402344\n",
      "Model Accuracy: 81.66417694091797\n",
      "Model Accuracy: 84.20528411865234\n",
      "Model Accuracy: 81.76382446289062\n",
      "Model Accuracy: 81.86347961425781\n",
      "Model Accuracy: 81.86347961425781\n",
      "900\n",
      "Model Accuracy: 82.76033782958984\n",
      "Model Accuracy: 81.66417694091797\n",
      "Model Accuracy: 81.86347961425781\n",
      "Model Accuracy: 81.81365203857422\n",
      "Model Accuracy: 81.71400451660156\n",
      "Model Accuracy: 81.86347961425781\n",
      "1000\n",
      "Model Accuracy: 82.2620849609375\n",
      "Model Accuracy: 81.61434936523438\n",
      "Model Accuracy: 83.25859832763672\n",
      "Model Accuracy: 81.86347961425781\n",
      "Model Accuracy: 81.56452178955078\n",
      "Model Accuracy: 81.86347961425781\n"
     ]
    }
   ],
   "source": [
    "corruption = 'Noisy'\n",
    "\n",
    "\n",
    "acc_dulo_dict_ft = {}\n",
    "acc_random_dict_ft = {}\n",
    "acc_optimal_dict_ft = {}\n",
    "acc_fass_dict_ft = {}\n",
    "acc_badge_dict_ft = {}\n",
    "acc_glister_dict_ft = {}\n",
    "\n",
    "# rank_dulo_dict, rank_random_dict, rank_optimal_dict, rank_fass_dict, rank_badge_dict, rank_glister_dict = pickle.load(open(model_dir+\"/rank_12_18_{}.pkl\".format(corruption),\"rb\"))\n",
    "\n",
    "adda_file = model_dir + '/adda_LeNet_net_mnist_usps.pth'\n",
    "\n",
    "for seed in range(12, 18):\n",
    "\n",
    "  deepset_selected_rank = rank_dulo_dict[seed]\n",
    "  random_perm = rank_random_dict[seed]\n",
    "  optimal_dulo_selected_rank = rank_optimal_dict[seed]\n",
    "  fass_selected_rank = rank_fass_dict[seed]\n",
    "  badge_selected_rank = rank_badge_dict[seed] \n",
    "  glister_selected_rank = rank_glister_dict[seed]\n",
    "\n",
    "  \n",
    "  acc_greedy_ft = [da_acc]\n",
    "  acc_random_ft = [da_acc]\n",
    "  acc_optimal_ft = [da_acc]\n",
    "  acc_fass_ft  = [da_acc]\n",
    "  acc_badge_ft = [da_acc]\n",
    "  acc_glister_ft = [da_acc]\n",
    "\n",
    "  inspect_points = np.linspace(100, 1000, num=10).astype(int)\n",
    "\n",
    "  for i in inspect_points:\n",
    "    print(i)\n",
    "\n",
    "    \n",
    "    idx_unlabel = np.ones_like(usps_y_unlabel_re, dtype=bool)\n",
    "    idx_unlabel[deepset_selected_rank[:i]] = False\n",
    "    acc_greedy_ft.append(data_to_acc_finetune_new(adda_file, usps_x_unlabel_re[deepset_selected_rank[:i]], usps_y_unlabel_re[deepset_selected_rank[:i]], usps_x_test_re, usps_y_test_re, usps_x_unlabel_re[idx_unlabel], lr=5e-6))\n",
    "\n",
    "\n",
    "  \n",
    "    idx_unlabel = np.ones_like(usps_y_unlabel_re, dtype=bool)\n",
    "    idx_unlabel[random_perm[:i]] = False\n",
    "    acc_random_ft.append(data_to_acc_finetune_new(adda_file, usps_x_unlabel_re[random_perm[:i]], usps_y_unlabel_re[random_perm[:i]], usps_x_test_re, usps_y_test_re, usps_x_unlabel_re[idx_unlabel]))\n",
    "\n",
    "\n",
    "  \n",
    "    idx_unlabel = np.ones_like(usps_y_unlabel_re, dtype=bool)\n",
    "    idx_unlabel[optimal_dulo_selected_rank[:i]] = False\n",
    "    acc_optimal_ft.append(data_to_acc_finetune_new(adda_file, usps_x_unlabel_re[optimal_dulo_selected_rank[:i]], usps_y_unlabel_re[optimal_dulo_selected_rank[:i]], usps_x_test_re, usps_y_test_re, usps_x_unlabel_re[idx_unlabel], lr=5e-6))\n",
    "\n",
    "  \n",
    "    idx_unlabel = np.ones_like(usps_y_unlabel_re, dtype=bool)\n",
    "    idx_unlabel[fass_selected_rank[:i]] = False\n",
    "    acc_fass_ft.append(data_to_acc_finetune_new(adda_file, usps_x_unlabel_re[fass_selected_rank[:i]], usps_y_unlabel_re[fass_selected_rank[:i]], usps_x_test_re, usps_y_test_re, usps_x_unlabel_re[idx_unlabel], lr=2e-6))\n",
    "    \n",
    "  \n",
    "    idx_unlabel = np.ones_like(usps_y_unlabel_re, dtype=bool)\n",
    "    idx_unlabel[badge_selected_rank[:i]] = False\n",
    "    acc_badge_ft.append(data_to_acc_finetune_new(adda_file, usps_x_unlabel_re[badge_selected_rank[:i]], usps_y_unlabel_re[badge_selected_rank[:i]], usps_x_test_re, usps_y_test_re, usps_x_unlabel_re[idx_unlabel], lr=2e-6))\n",
    "    \n",
    "\n",
    "  \n",
    "    idx_unlabel = np.ones_like(usps_y_unlabel_re, dtype=bool)\n",
    "    idx_unlabel[glister_selected_rank[:i]] = False\n",
    "    acc_glister_ft.append(data_to_acc_finetune_new(adda_file, usps_x_unlabel_re[glister_selected_rank[:i]], usps_y_unlabel_re[glister_selected_rank[:i]], usps_x_test_re, usps_y_test_re, usps_x_unlabel_re[idx_unlabel], lr=2e-6))\n",
    "\n",
    "\n",
    "  acc_dulo_dict_ft[seed] = acc_greedy_ft\n",
    "  acc_random_dict_ft[seed] = acc_random_ft\n",
    "  acc_optimal_dict_ft[seed] = acc_optimal_ft\n",
    "  acc_fass_dict_ft[seed] = acc_fass_ft\n",
    "  acc_badge_dict_ft[seed] = acc_badge_ft\n",
    "  acc_glister_dict_ft[seed] = acc_glister_ft"
   ]
  },
  {
   "cell_type": "markdown",
   "metadata": {
    "id": "G--tp28V06-L"
   },
   "source": [
    "### load rank and acc"
   ]
  },
  {
   "cell_type": "code",
   "execution_count": null,
   "metadata": {
    "id": "2rO1ivnl0-BT"
   },
   "outputs": [],
   "source": [
    "corruption = 'Noisy'\n",
    "model_dir = prefix + '/active-learning-transfer/models/cycada/ds/iter_1_28_noise'\n",
    "\n",
    "rank_dulo_dict, rank_random_dict, rank_optimal_dict, rank_fass_dict, rank_badge_dict, rank_glister_dict = pickle.load(open(model_dir+\"/rank_12_18_{}.pkl\".format(corruption),\"rb\"))\n",
    "acc_dulo_dict_ft, acc_random_dict_ft, acc_optimal_dict_ft, acc_fass_dict_ft, acc_badge_dict_ft, acc_glister_dict_ft = pickle.load(open(model_dir+\"/accFineTune_12_18_{}.pkl\".format(corruption),\"rb\"))"
   ]
  },
  {
   "cell_type": "markdown",
   "metadata": {
    "id": "rK-LyyAM1bBP"
   },
   "source": [
    "### Plot"
   ]
  },
  {
   "cell_type": "code",
   "execution_count": 69,
   "metadata": {
    "colab": {
     "base_uri": "https://localhost:8080/",
     "height": 314
    },
    "id": "PWjgnWKd6ZWS",
    "outputId": "0170ec45-123b-42bb-c847-7d0232982de8"
   },
   "outputs": [
    {
     "data": {
      "image/png": "[encoded data removed]",
      "text/plain": [
       "<Figure size 432x288 with 1 Axes>"
      ]
     },
     "metadata": {
      "needs_background": "light",
      "tags": []
     },
     "output_type": "display_data"
    }
   ],
   "source": [
    "target_size = 1000\n",
    "inspect_points = np.linspace(0, target_size, num=11).astype(int)\n",
    "\n",
    "\n",
    "acc_dulo = np.zeros((6, 11))\n",
    "acc_random = np.zeros((6, 11))\n",
    "acc_optimal = np.zeros((6, 11))\n",
    "acc_fass = np.zeros((6, 11))\n",
    "acc_badge = np.zeros((6, 11))\n",
    "acc_glister = np.zeros((6, 11))\n",
    "\n",
    "for i in range(6):\n",
    "  seed = i+12\n",
    "  acc_dulo[i] = acc_dulo_dict_ft[seed]\n",
    "  acc_random[i] = acc_random_dict_ft[seed]\n",
    "  acc_optimal[i] = acc_optimal_dict_ft[seed]\n",
    "  acc_fass[i] = acc_fass_dict_ft[seed]\n",
    "  acc_badge[i] = acc_badge_dict_ft[seed]\n",
    "  acc_glister[i] = acc_glister_dict_ft[seed]\n",
    "\n",
    "plt.figure()\n",
    "\n",
    "def plot_fill(record, name, col):\n",
    "  if name in ['DULO', 'Optimal']:\n",
    "    plt.plot(inspect_points, np.mean(record, axis=0), label=name, color=col, marker='o')\n",
    "  else:\n",
    "    plt.plot(inspect_points, np.mean(record, axis=0), label=name, color=col)\n",
    "  plt.fill_between(inspect_points, np.mean(record, axis=0)+np.std(record, axis=0), np.mean(record, axis=0)-np.std(record, axis=0), alpha=0.2, color=col)\n",
    "\n",
    "\n",
    "font = {'size': 10}\n",
    "plt.rc('font', **font)\n",
    "plt.rc('xtick', labelsize=15)\n",
    "plt.rc('ytick', labelsize=15)\n",
    "\n",
    "plot_fill(acc_dulo, 'DULO', 'C0')\n",
    "plot_fill(acc_random, 'Random', 'C1')\n",
    "plot_fill(acc_optimal, 'Optimal', 'C2')\n",
    "plot_fill(acc_fass, 'FASS', 'C3')\n",
    "plot_fill(acc_badge, 'BADGE', 'C4')\n",
    "plot_fill(acc_glister, 'GLISTER', 'C5')\n",
    "\n",
    "font = {'size': 10}\n",
    "plt.rc('font', **font)\n",
    "plt.rc('xtick', labelsize=15)\n",
    "plt.rc('ytick', labelsize=15)\n",
    "\n",
    "plt.title('MNIST->USPS, Finetune, ' + corruption, fontsize = 20)\n",
    "plt.ylabel('Classifier Accuracy', fontsize = 20)\n",
    "plt.xlabel('# Selected Data Points', fontsize = 20)\n",
    "plt.legend(loc='best')\n",
    "plt.show()"
   ]
  },
  {
   "cell_type": "code",
   "execution_count": null,
   "metadata": {
    "id": "ns1UKXo-6ZWT"
   },
   "outputs": [],
   "source": [
    "pickle.dump([acc_dulo_dict_ft, acc_random_dict_ft, acc_optimal_dict_ft, acc_fass_dict_ft, acc_badge_dict_ft, acc_glister_dict_ft], open(model_dir+\"/accFineTune_12_18_{}.pkl\".format(corruption),\"wb\"))"
   ]
  }
 ],
 "metadata": {
  "accelerator": "GPU",
  "colab": {
   "collapsed_sections": [],
   "name": "mnist2usps_cleaned.ipynb",
   "provenance": [],
   "toc_visible": true
  },
  "kernelspec": {
   "display_name": "Python 3",
   "language": "python",
   "name": "python3"
  },
  "language_info": {
   "codemirror_mode": {
    "name": "ipython",
    "version": 3
   },
   "file_extension": ".py",
   "mimetype": "text/x-python",
   "name": "python",
   "nbconvert_exporter": "python",
   "pygments_lexer": "ipython3",
   "version": "3.7.9"
  },
  "toc": {
   "base_numbering": 1,
   "nav_menu": {},
   "number_sections": true,
   "sideBar": true,
   "skip_h1_title": false,
   "title_cell": "Table of Contents",
   "title_sidebar": "Contents",
   "toc_cell": false,
   "toc_position": {
    "height": "calc(100% - 180px)",
    "left": "10px",
    "top": "150px",
    "width": "288px"
   },
   "toc_section_display": true,
   "toc_window_display": true
  },
  "varInspector": {
   "cols": {
    "lenName": 16,
    "lenType": 16,
    "lenVar": 40
   },
   "kernels_config": {
    "python": {
     "delete_cmd_postfix": "",
     "delete_cmd_prefix": "del ",
     "library": "var_list.py",
     "varRefreshCmd": "print(var_dic_list())"
    },
    "r": {
     "delete_cmd_postfix": ") ",
     "delete_cmd_prefix": "rm(",
     "library": "var_list.r",
     "varRefreshCmd": "cat(var_dic_list()) "
    }
   },
   "types_to_exclude": [
    "module",
    "function",
    "builtin_function_or_method",
    "instance",
    "_Feature"
   ],
   "window_display": false
  }
 },
 "nbformat": 4,
 "nbformat_minor": 1
}
